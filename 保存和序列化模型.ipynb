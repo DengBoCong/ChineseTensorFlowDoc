{
  "nbformat": 4,
  "nbformat_minor": 0,
  "metadata": {
    "colab": {
      "name": "保存和序列化模型.ipynb",
      "provenance": [],
      "collapsed_sections": [],
      "authorship_tag": "ABX9TyOvX9Hw9+QkeqRpGSQHsm0Q"
    },
    "kernelspec": {
      "name": "python3",
      "display_name": "Python 3"
    },
    "accelerator": "GPU"
  },
  "cells": [
    {
      "cell_type": "markdown",
      "metadata": {
        "id": "u-Vya05Gou4G",
        "colab_type": "text"
      },
      "source": [
        "# **保存和载入Keras模型**\n",
        "\n",
        "### **介绍**\n",
        "Keras模型由许多组件构成：\n",
        "\n",
        "+ 模型结构或配置，它指定模型包含哪些层以及如何连接它们。\n",
        "+ 一组权重值（即“模型的状态”）\n",
        "+ 优化器（在编译模型时定义）\n",
        "+ 一组损失和指标（在编译模型时定义或者调用`add_loss()`或`add_metric()`）\n",
        "\n",
        "通过Keras API，可以将这些片段一次性保存到磁盘，或者仅选择性地保存其中一部分：\n",
        "\n",
        "+ 标准的做法是，将模型的所有内容以TensorFlow SavedModel格式（或更旧的Keras H5格式）保存到单个文件中。\n",
        "+ 仅保存模型的架构/配置，通常保存为JSON文件。\n",
        "+ 仅保存模型的权重值，通常在训练模型时使用。\n",
        "\n",
        "接下来让我们来讨论上述方法的使用：什么时候使用它们？它们如何运作的？\n",
        "\n",
        "### 保存和加载快捷方式\n",
        "\n",
        "如果你只有10秒钟的时间阅读本指南，则需要了解以下内容。\n",
        "\n",
        "**保存Keras模型：**"
      ]
    },
    {
      "cell_type": "code",
      "metadata": {
        "id": "4z3fstao1VuY",
        "colab_type": "code",
        "colab": {}
      },
      "source": [
        "model = ...  # 创建一个模型 (Sequential模型, 函数式模型, 或者子类化模型)\n",
        "model.save('path/to/location')"
      ],
      "execution_count": null,
      "outputs": []
    },
    {
      "cell_type": "markdown",
      "metadata": {
        "id": "ClP5J4J8w7jK",
        "colab_type": "text"
      },
      "source": [
        "**载入模型：**"
      ]
    },
    {
      "cell_type": "code",
      "metadata": {
        "id": "c-Nw-pPExFMQ",
        "colab_type": "code",
        "colab": {}
      },
      "source": [
        "from tensorflow import keras\n",
        "model = keras.models.load_model('path/to/location')"
      ],
      "execution_count": null,
      "outputs": []
    },
    {
      "cell_type": "markdown",
      "metadata": {
        "id": "mAaab9JbxGEf",
        "colab_type": "text"
      },
      "source": [
        "接下来，让我们来讨论具体细节。\n",
        "\n",
        "### **引入**"
      ]
    },
    {
      "cell_type": "code",
      "metadata": {
        "id": "HbIiuCWYxMrF",
        "colab_type": "code",
        "colab": {}
      },
      "source": [
        "import numpy as np\n",
        "import tensorflow as tf\n",
        "from tensorflow import keras"
      ],
      "execution_count": 1,
      "outputs": []
    },
    {
      "cell_type": "markdown",
      "metadata": {
        "id": "uISoA_H2xOJe",
        "colab_type": "text"
      },
      "source": [
        "### **整个模型的保存和载入**\n",
        "\n",
        "你可以将整个模型保存到单个文件中。它将包括：\n",
        "+ 模型的架构/配置\n",
        "+ 模型的权重值（在训练过程中学习的）\n",
        "+ 模型被调用的编译信息（如果调用了`compile()`）\n",
        "+ 优化器及其状态（这使你可以在中断的位置重新开始训练）\n",
        "\n",
        "**API：**\n",
        "+ `model.save()`或[`tf.keras.models.save_model()`](https://www.tensorflow.org/api_docs/python/tf/keras/models/save_model)\n",
        "+ [`tf.keras.models.load_model()`](https://www.tensorflow.org/api_docs/python/tf/keras/models/load_model)\n",
        "\n",
        "你可以使用两种格式将整个模型保存到磁盘：**TensorFlow SavedModel格式**和**较老的Keras H5格式**。推荐的格式为SavedModel。使用`model.save()`时是默认设置。\n",
        "\n",
        "您可以通过以下方式切换到H5格式：\n",
        "+ 将`save_format='h5'`传递给`save()`\n",
        "+ 将传递给`save()`的文件名的末尾加上`.h5`或者`.keras`\n",
        "\n",
        "#### SavedModel格式\n",
        "举例"
      ]
    },
    {
      "cell_type": "code",
      "metadata": {
        "id": "-m6OlVSl2LeX",
        "colab_type": "code",
        "colab": {
          "base_uri": "https://localhost:8080/",
          "height": 217
        },
        "outputId": "1c60912e-fa59-4a01-caca-a787fbdee682"
      },
      "source": [
        "def get_model():\n",
        "    # 创建一个简单模型\n",
        "    inputs = keras.Input(shape=(32,))\n",
        "    outputs = keras.layers.Dense(1)(inputs)\n",
        "    model = keras.Model(inputs, outputs)\n",
        "    model.compile(optimizer=\"adam\", loss=\"mean_squared_error\")\n",
        "    return model\n",
        "\n",
        "\n",
        "model = get_model()\n",
        "\n",
        "# 训练模型\n",
        "test_input = np.random.random((128, 32))\n",
        "test_target = np.random.random((128, 1))\n",
        "model.fit(test_input, test_target)\n",
        "\n",
        "# 调用`save('my_model')`创建一个SavedModel，文件夹命名为`my_model`.\n",
        "model.save(\"my_model\")\n",
        "\n",
        "# 非常方便的重新载入\n",
        "reconstructed_model = keras.models.load_model(\"my_model\")\n",
        "\n",
        "# 验证一下\n",
        "np.testing.assert_allclose(\n",
        "    model.predict(test_input), reconstructed_model.predict(test_input)\n",
        ")\n",
        "\n",
        "# 重建的模型通过编译，由于保留了优化器状态，因此可以恢复训练：\n",
        "reconstructed_model.fit(test_input, test_target)"
      ],
      "execution_count": 2,
      "outputs": [
        {
          "output_type": "stream",
          "text": [
            "4/4 [==============================] - 0s 3ms/step - loss: 0.4323\n",
            "WARNING:tensorflow:From /usr/local/lib/python3.6/dist-packages/tensorflow/python/training/tracking/tracking.py:111: Model.state_updates (from tensorflow.python.keras.engine.training) is deprecated and will be removed in a future version.\n",
            "Instructions for updating:\n",
            "This property should not be used in TensorFlow 2.0, as updates are applied automatically.\n",
            "WARNING:tensorflow:From /usr/local/lib/python3.6/dist-packages/tensorflow/python/training/tracking/tracking.py:111: Layer.updates (from tensorflow.python.keras.engine.base_layer) is deprecated and will be removed in a future version.\n",
            "Instructions for updating:\n",
            "This property should not be used in TensorFlow 2.0, as updates are applied automatically.\n",
            "INFO:tensorflow:Assets written to: my_model/assets\n",
            "4/4 [==============================] - 0s 2ms/step - loss: 0.3800\n"
          ],
          "name": "stdout"
        },
        {
          "output_type": "execute_result",
          "data": {
            "text/plain": [
              "<tensorflow.python.keras.callbacks.History at 0x7f56ee8aed30>"
            ]
          },
          "metadata": {
            "tags": []
          },
          "execution_count": 2
        }
      ]
    },
    {
      "cell_type": "markdown",
      "metadata": {
        "id": "bkQiZoFi4W63",
        "colab_type": "text"
      },
      "source": [
        "**SavedModel包含了什么**\n",
        "\n",
        "调用`model.save('my_model')`创建一个名为`my_model`的文件夹，其中包含以下内容："
      ]
    },
    {
      "cell_type": "code",
      "metadata": {
        "id": "4aLo--CX4sxf",
        "colab_type": "code",
        "colab": {
          "base_uri": "https://localhost:8080/",
          "height": 35
        },
        "outputId": "eb8068b8-95f1-4a42-8ceb-693644226302"
      },
      "source": [
        "ls my_model"
      ],
      "execution_count": 3,
      "outputs": [
        {
          "output_type": "stream",
          "text": [
            "\u001b[0m\u001b[01;34massets\u001b[0m/  saved_model.pb  \u001b[01;34mvariables\u001b[0m/\n"
          ],
          "name": "stdout"
        }
      ]
    },
    {
      "cell_type": "markdown",
      "metadata": {
        "id": "6DdVbIbL4w95",
        "colab_type": "text"
      },
      "source": [
        "模型结构和训练配置（包括优化器，损失和指标）存储在`save_model.pb`中。权重保存在`variables/`目录中。\n",
        "\n",
        "有关SavedModel格式的详细信息，请参见[SavedModel指南（磁盘上的SavedModel格式）](https://www.tensorflow.org/guide/saved_model#the_savedmodel_format_on_disk)。\n",
        "\n",
        "#### **SavedModel如何处理自定义对象**\n",
        "\n",
        "保存模型及其层时，SavedModel格式存储类名称，**调用函数**，损失和权重（以及配置）。调用函数定义了模型/层的计算图。\n",
        "\n",
        "在没有模型/层配置的情况下，调用函数将创建一个类似原始模型的模型，该模型可以进行训练，评估并用于预测。\n",
        "\n",
        "尽管如此，在编写自定义模型或层的类时，定义`get_config`和`from_config`方法始终是一个好习惯。这样，你便可以在需要时轻松地更新计算。有关更多信息，请参见关于[自定义对象](https://www.tensorflow.org/guide/keras/save_and_serialize#custom_objects)的部分。\n",
        "\n",
        "以下是从SavedModel格式加载自定义层而**不覆盖**`config`方法时，操作示例。"
      ]
    },
    {
      "cell_type": "code",
      "metadata": {
        "id": "FlSGIkhC9Je2",
        "colab_type": "code",
        "colab": {
          "base_uri": "https://localhost:8080/",
          "height": 89
        },
        "outputId": "d69ab46c-d0ee-4754-bb1e-903e39a1f860"
      },
      "source": [
        "class CustomModel(keras.Model):\n",
        "    def __init__(self, hidden_units):\n",
        "        super(CustomModel, self).__init__()\n",
        "        self.dense_layers = [keras.layers.Dense(u) for u in hidden_units]\n",
        "\n",
        "    def call(self, inputs):\n",
        "        x = inputs\n",
        "        for layer in self.dense_layers:\n",
        "            x = layer(x)\n",
        "        return x\n",
        "\n",
        "\n",
        "model = CustomModel([16, 16, 10])\n",
        "# 通过调用它创建模型\n",
        "input_arr = tf.random.uniform((1, 5))\n",
        "outputs = model(input_arr)\n",
        "model.save(\"my_model\")\n",
        "\n",
        "# 删除自定义模型类，以确保加载程序无法访问它。\n",
        "del CustomModel\n",
        "\n",
        "loaded = keras.models.load_model(\"my_model\")\n",
        "np.testing.assert_allclose(loaded(input_arr), outputs)\n",
        "\n",
        "print(\"Original model:\", model)\n",
        "print(\"Loaded model:\", loaded)"
      ],
      "execution_count": 4,
      "outputs": [
        {
          "output_type": "stream",
          "text": [
            "INFO:tensorflow:Assets written to: my_model/assets\n",
            "WARNING:tensorflow:No training configuration found in save file, so the model was *not* compiled. Compile it manually.\n",
            "Original model: <__main__.CustomModel object at 0x7f56ee89c668>\n",
            "Loaded model: <tensorflow.python.keras.saving.saved_model.load.CustomModel object at 0x7f56ee8950f0>\n"
          ],
          "name": "stdout"
        }
      ]
    },
    {
      "cell_type": "markdown",
      "metadata": {
        "id": "1iSwULkG9_CN",
        "colab_type": "text"
      },
      "source": [
        "如上面的示例所示，加载程序动态创建一个行为类似于原始模型的新模型类。\n",
        "\n",
        "### **Keras H5格式**\n",
        "\n",
        "Keras还支持保存包含模型的架构，权重值和`compile()`信息的单个HDF5文件。它是SavedModel的轻量替代方案。\n",
        "\n",
        "**示例：**"
      ]
    },
    {
      "cell_type": "code",
      "metadata": {
        "id": "xKMsqyXp-ZO5",
        "colab_type": "code",
        "colab": {
          "base_uri": "https://localhost:8080/",
          "height": 71
        },
        "outputId": "335d941c-ebab-48df-d724-b73194a9421e"
      },
      "source": [
        "model = get_model()\n",
        "\n",
        "# 训练模型\n",
        "test_input = np.random.random((128, 32))\n",
        "test_target = np.random.random((128, 1))\n",
        "model.fit(test_input, test_target)\n",
        "\n",
        "# 调用`save('my_model.h5')`创建一个名为`my_model.h5`的h5文件\n",
        "model.save(\"my_h5_model.h5\")\n",
        "\n",
        "# 非常方便的重新载入\n",
        "reconstructed_model = keras.models.load_model(\"my_h5_model.h5\")\n",
        "\n",
        "# 验证一下：\n",
        "np.testing.assert_allclose(\n",
        "    model.predict(test_input), reconstructed_model.predict(test_input)\n",
        ")\n",
        "\n",
        "# 重建的模型通过编译，由于保留了优化器状态，因此可以恢复训练：\n",
        "reconstructed_model.fit(test_input, test_target)"
      ],
      "execution_count": 5,
      "outputs": [
        {
          "output_type": "stream",
          "text": [
            "4/4 [==============================] - 0s 3ms/step - loss: 2.2211\n",
            "4/4 [==============================] - 0s 2ms/step - loss: 2.0320\n"
          ],
          "name": "stdout"
        },
        {
          "output_type": "execute_result",
          "data": {
            "text/plain": [
              "<tensorflow.python.keras.callbacks.History at 0x7f56eb198ef0>"
            ]
          },
          "metadata": {
            "tags": []
          },
          "execution_count": 5
        }
      ]
    },
    {
      "cell_type": "markdown",
      "metadata": {
        "id": "DoSm-bKl-wF1",
        "colab_type": "text"
      },
      "source": [
        "#### **局限性**\n",
        "与SavedModel格式相比，H5文件中没有包含如下两点：\n",
        "+ 通过`model.add_loss()`和`model.add_metric()`添加的外部损失和指标不会被保存（与SavedModel不同）。如果你的模型上有这样的损失和指标，并且想要恢复训练，则需要在加载模型后重新添加这些损失。请注意，通过`self.add_loss()`和`self.add_metric()`在层内部创建的损耗/指标是会被保存的。只要该层被加载，这些损耗和度量就被保留，因为它们是该层的调用方法的一部分。\n",
        "+ 自定义对象（如自定义层）的计算图不包含在保存的文件中。在加载时，Keras将需要访问这些对象的Python类/函数以重建模型。请参阅[自定义对象](https://www.tensorflow.org/guide/keras/save_and_serialize#custom_objects)。\n",
        "\n",
        "### **保存模型架构**\n",
        "\n",
        "模型的配置（或架构）指定了模型包含的层以及如何连接这些层*。如果你有模型的配置，则可以使用新的初始化状态，配合权重创建模型，而无需编译信息。\n",
        "\n",
        "*请注意，这仅适用于使用函数式API或`Sequential`API定义的模型，而非子类化模型。\n",
        "\n",
        "### Sequential模型或函数式API模型的配置\n",
        "这两个类型的模型是显式的层：它们的配置始终以结构化形式呈现和使用。\n",
        "\n",
        "**APIs**\n",
        "+ `get_config()`和`from_config()`\n",
        "+ `tf.keras.models.model_to_json()`和[`tf.keras.models.model_from_json()`](https://www.tensorflow.org/api_docs/python/tf/keras/models/model_from_json)\n",
        "\n",
        "**`get_config()`和`from_config()`**\n",
        "\n",
        "调用`config = model.get_config()`将返回一个包含模型配置的Python字典。然后可以通过`Sequential.from_config(config)`（对于Sequential模型）或`Model.from_config(config)`（对于函数式API模型）来重建相同的模型。\n",
        "\n",
        "相同的工作流程也适用于任何可序列化层。\n",
        "\n",
        "**层的例子：**"
      ]
    },
    {
      "cell_type": "code",
      "metadata": {
        "id": "84gEEqKoCACg",
        "colab_type": "code",
        "colab": {}
      },
      "source": [
        "layer = keras.layers.Dense(3, activation=\"relu\")\n",
        "layer_config = layer.get_config()\n",
        "new_layer = keras.layers.Dense.from_config(layer_config)"
      ],
      "execution_count": 6,
      "outputs": []
    },
    {
      "cell_type": "markdown",
      "metadata": {
        "id": "U2QpwFFwCGdI",
        "colab_type": "text"
      },
      "source": [
        "**Sequential模型的例子：**"
      ]
    },
    {
      "cell_type": "code",
      "metadata": {
        "id": "XXkdLXpfCKII",
        "colab_type": "code",
        "colab": {}
      },
      "source": [
        "model = keras.Sequential([keras.Input((32,)), keras.layers.Dense(1)])\n",
        "config = model.get_config()\n",
        "new_model = keras.Sequential.from_config(config)"
      ],
      "execution_count": 7,
      "outputs": []
    },
    {
      "cell_type": "markdown",
      "metadata": {
        "id": "gEg1sZBqCSQy",
        "colab_type": "text"
      },
      "source": [
        "**函数式API模型的例子：**"
      ]
    },
    {
      "cell_type": "code",
      "metadata": {
        "id": "c2-Aw6hoCXp5",
        "colab_type": "code",
        "colab": {}
      },
      "source": [
        "inputs = keras.Input((32,))\n",
        "outputs = keras.layers.Dense(1)(inputs)\n",
        "model = keras.Model(inputs, outputs)\n",
        "config = model.get_config()\n",
        "new_model = keras.Model.from_config(config)"
      ],
      "execution_count": 8,
      "outputs": []
    },
    {
      "cell_type": "markdown",
      "metadata": {
        "id": "EoVqZuAACb_L",
        "colab_type": "text"
      },
      "source": [
        "#### **to_json()和[tf.keras.models.model_from_json()](https://www.tensorflow.org/api_docs/python/tf/keras/models/model_from_json)**\n",
        "\n",
        "这类似于`get_config` / `from_config`，不同之处在于它将模型转换为JSON字符串，然后可以在没有原始模型类的情况下进行加载。它只能应用于模型，并不适用于层。\n",
        "\n",
        "**例子：**"
      ]
    },
    {
      "cell_type": "code",
      "metadata": {
        "id": "zbnTNzCoC4RS",
        "colab_type": "code",
        "colab": {}
      },
      "source": [
        "model = keras.Sequential([keras.Input((32,)), keras.layers.Dense(1)])\n",
        "json_config = model.to_json()\n",
        "new_model = keras.models.model_from_json(json_config)"
      ],
      "execution_count": 9,
      "outputs": []
    },
    {
      "cell_type": "markdown",
      "metadata": {
        "id": "bIA5qqJtC9wJ",
        "colab_type": "text"
      },
      "source": [
        "### **自定义对象**\n",
        "\n",
        "**自定义模型和层**\n",
        "\n",
        "子类化模型和层的架构在`__init__`和`call`方法中进行定义。它们被定义为Python字节码，无法序列化为与JSON兼容的配置--你可以尝试序列化字节码（例如通过pickle），但这完全是不安全的，这意味着你的模型无法加载到其他系统上。\n",
        "\n",
        "为了保存/加载具有自定义层的模型或子类化模型，你应该覆盖`get_config`和选择性的覆盖`from_config`方法。另外，你应该注册自定义对象，以便Keras能识别它。\n",
        "\n",
        "**自定义方法**\n",
        "\n",
        "自定义方法（例如，激活损失或初始化）不需要`get_config`方法。只要将方法名称注册为自定义对象，就足以通过该方法名称进行加载。\n",
        "\n",
        "**仅加载TensorFlow图**\n",
        "\n",
        "可以加载Keras生成的TensorFlow图。如果这样做，则无需提供任何`custom_object`。你可以这样做："
      ]
    },
    {
      "cell_type": "code",
      "metadata": {
        "id": "ctKPadCtEest",
        "colab_type": "code",
        "colab": {
          "base_uri": "https://localhost:8080/",
          "height": 35
        },
        "outputId": "d25abbf1-21c2-4752-f404-8def18c4c704"
      },
      "source": [
        "model.save(\"my_model\")\n",
        "tensorflow_graph = tf.saved_model.load(\"my_model\")\n",
        "x = np.random.uniform(size=(4, 32)).astype(np.float32)\n",
        "predicted = tensorflow_graph(x).numpy()"
      ],
      "execution_count": 10,
      "outputs": [
        {
          "output_type": "stream",
          "text": [
            "INFO:tensorflow:Assets written to: my_model/assets\n"
          ],
          "name": "stdout"
        }
      ]
    },
    {
      "cell_type": "markdown",
      "metadata": {
        "id": "gSQz_TseFL3p",
        "colab_type": "text"
      },
      "source": [
        "请注意，此方法有几个缺点：\n",
        "+ 出于可追溯性的原因，你应该始终可以访问所使用的自定义对象，毕竟你肯定不想将无法重新创建的模型投入生产。\n",
        "+ `tf.saved_model.load`返回的对象不是Keras模型。因此，它并不是那么方便使用的。例如，你将无权访问`.predict()`或`.fit()`\n",
        "\n",
        "即使不鼓励使用它，它也可以在必要时为你提供帮助，例如，如果你丢失了自定义对象的代码或在使用`tf.keras.models.load_model()`加载模型时遇到问题时使用。\n",
        "\n",
        "你可以在[`tf.saved_model.load`页面](https://www.tensorflow.org/api_docs/python/tf/saved_model/load)找到有关它的更多信息。\n",
        "\n",
        "#### 定义配置方法\n",
        "规范：\n",
        "+ 为了保证Keras中，模型架构和保存API的兼容，`get_config`应该返回一个JSON可序列化的字典。\n",
        "+ `from_config(config)`(`classmethod`)应该返回通过配置创建的新层或模型对象。默认实现返回`cls(** config)`。\n",
        "\n",
        "**示例：**"
      ]
    },
    {
      "cell_type": "code",
      "metadata": {
        "id": "uPRyTPw_H-5n",
        "colab_type": "code",
        "colab": {}
      },
      "source": [
        "class CustomLayer(keras.layers.Layer):\n",
        "    def __init__(self, a):\n",
        "        self.var = tf.Variable(a, name=\"var_a\")\n",
        "\n",
        "    def call(self, inputs, training=False):\n",
        "        if training:\n",
        "            return inputs * self.var\n",
        "        else:\n",
        "            return inputs\n",
        "\n",
        "    def get_config(self):\n",
        "        return {\"a\": self.var.numpy()}\n",
        "\n",
        "    # 实际上，这里不需要定义from_config，因为返回cls（** config）是默认行为。\n",
        "    @classmethod\n",
        "    def from_config(cls, config):\n",
        "        return cls(**config)\n",
        "\n",
        "\n",
        "layer = CustomLayer(5)\n",
        "layer.var.assign(2)\n",
        "\n",
        "serialized_layer = keras.layers.serialize(layer)\n",
        "new_layer = keras.layers.deserialize(\n",
        "    serialized_layer, custom_objects={\"CustomLayer\": CustomLayer}\n",
        ")"
      ],
      "execution_count": 11,
      "outputs": []
    },
    {
      "cell_type": "markdown",
      "metadata": {
        "id": "fd5eiES3IZY6",
        "colab_type": "text"
      },
      "source": [
        "**注册自定义对象**\n",
        "\n",
        "Keras记录了哪个类生成了配置。在上面的示例中，`tf.keras.layers.serialize`生成自定义层的序列化形式："
      ]
    },
    {
      "cell_type": "code",
      "metadata": {
        "id": "AIDjfRMhIoSY",
        "colab_type": "code",
        "colab": {}
      },
      "source": [
        "{'class_name': 'CustomLayer', 'config': {'a': 2} }"
      ],
      "execution_count": null,
      "outputs": []
    },
    {
      "cell_type": "markdown",
      "metadata": {
        "id": "GO_xbVJwIwmM",
        "colab_type": "text"
      },
      "source": [
        "Keras保留所有内置层，模型，优化器和指标类的主列表，该列表用于查找正确的类以调用`from_config`。如果找不到该类，则会引发错误（`Value Error: Unknown layer`）。有几种方法可以将自定义类注册到此列表中：\n",
        "\n",
        "1. 在加载函数中设置`custom_objects`参数。（请参见上面“定义配置方法”部分中的示例）\n",
        "2. `tf.keras.utils.custom_object_scope`或`tf.keras.utils.CustomObjectScope`\n",
        "3. `tf.keras.utils.register_keras_serializable`\n",
        "\n",
        "**自定义层和方法示例**"
      ]
    },
    {
      "cell_type": "code",
      "metadata": {
        "id": "76e_RHKIJy5g",
        "colab_type": "code",
        "colab": {}
      },
      "source": [
        "class CustomLayer(keras.layers.Layer):\n",
        "    def __init__(self, units=32, **kwargs):\n",
        "        super(CustomLayer, self).__init__(**kwargs)\n",
        "        self.units = units\n",
        "\n",
        "    def build(self, input_shape):\n",
        "        self.w = self.add_weight(\n",
        "            shape=(input_shape[-1], self.units),\n",
        "            initializer=\"random_normal\",\n",
        "            trainable=True,\n",
        "        )\n",
        "        self.b = self.add_weight(\n",
        "            shape=(self.units,), initializer=\"random_normal\", trainable=True\n",
        "        )\n",
        "\n",
        "    def call(self, inputs):\n",
        "        return tf.matmul(inputs, self.w) + self.b\n",
        "\n",
        "    def get_config(self):\n",
        "        config = super(CustomLayer, self).get_config()\n",
        "        config.update({\"units\": self.units})\n",
        "        return config\n",
        "\n",
        "\n",
        "def custom_activation(x):\n",
        "    return tf.nn.tanh(x) ** 2\n",
        "\n",
        "\n",
        "# 使用CustomLayer和custom_activation建立模型\n",
        "inputs = keras.Input((32,))\n",
        "x = CustomLayer(32)(inputs)\n",
        "outputs = keras.layers.Activation(custom_activation)(x)\n",
        "model = keras.Model(inputs, outputs)\n",
        "\n",
        "# 获取配置\n",
        "config = model.get_config()\n",
        "\n",
        "# 在加载时，使用`custom_object_scope`注册自定义对象：\n",
        "custom_objects = {\"CustomLayer\": CustomLayer, \"custom_activation\": custom_activation}\n",
        "with keras.utils.custom_object_scope(custom_objects):\n",
        "    new_model = keras.Model.from_config(config)"
      ],
      "execution_count": 12,
      "outputs": []
    },
    {
      "cell_type": "markdown",
      "metadata": {
        "id": "EKf5FVZUKk4V",
        "colab_type": "text"
      },
      "source": [
        "#### 克隆内存中的模型\n",
        "\n",
        "你还可以通过`tf.keras.models.clone_model()`克隆内存中模型。这等效于获取配置，然后从其配置中重新创建模型（因此它不保留编译信息或层权重值）。\n",
        "\n",
        "**示例：**"
      ]
    },
    {
      "cell_type": "code",
      "metadata": {
        "id": "ImEcRtorK2ll",
        "colab_type": "code",
        "colab": {}
      },
      "source": [
        "with keras.utils.custom_object_scope(custom_objects):\n",
        "    new_model = keras.models.clone_model(model)"
      ],
      "execution_count": null,
      "outputs": []
    },
    {
      "cell_type": "markdown",
      "metadata": {
        "id": "E2C4xAdLK-vT",
        "colab_type": "text"
      },
      "source": [
        "### 仅保存和加载模型的权重值\n",
        "\n",
        "你可以选择仅保存和加载模型的权重。在以下情况下这可能很有用：\n",
        "\n",
        "+ 你只需要模型进行预测：在这种情况下，你无需重新开始训练，因此你不需要编译信息或优化器状态。\n",
        "+ 你正在进行迁移学习：在这种情况下，你将使用现有模型的状态来训练新模型，因此你不需要先前模型的编译信息。\n",
        "\n",
        "#### **在内存中进行权重转移的API**\n",
        "\n",
        "可以使用`get_weights`和`set_weights`在不同对象之间复制权重：\n",
        "\n",
        "+ [`tf.keras.layers.Layer.get_weights()`](https://www.tensorflow.org/api_docs/python/tf/keras/layers/Layer?hl=zh_cn#get_weights)：返回numpy数组的列表。\n",
        "+ [`tf.keras.layers.Layer.set_weights()`](https://www.tensorflow.org/api_docs/python/tf/keras/layers/Layer?hl=zh_cn#set_weights)：将模型权重设置为`weights`参数中的值。\n",
        "\n",
        "在下面的示例中，**在内存中将权重从一个层转移到另一个层**"
      ]
    },
    {
      "cell_type": "code",
      "metadata": {
        "id": "if46OXlNMfpt",
        "colab_type": "code",
        "colab": {}
      },
      "source": [
        "def create_layer():\n",
        "    layer = keras.layers.Dense(64, activation=\"relu\", name=\"dense_2\")\n",
        "    layer.build((None, 784))\n",
        "    return layer\n",
        "\n",
        "\n",
        "layer_1 = create_layer()\n",
        "layer_2 = create_layer()\n",
        "\n",
        "# 将权重从layer1复制到layer2\n",
        "layer_2.set_weights(layer_1.get_weights())"
      ],
      "execution_count": 14,
      "outputs": []
    },
    {
      "cell_type": "markdown",
      "metadata": {
        "id": "WC_7ETqPM7et",
        "colab_type": "text"
      },
      "source": [
        "在内存中，将权重从一个模型转移到具有兼容架构的另一个模型"
      ]
    },
    {
      "cell_type": "code",
      "metadata": {
        "id": "R5cAMUKfNHKF",
        "colab_type": "code",
        "colab": {}
      },
      "source": [
        "# 创建一个简单的函数式模型\n",
        "inputs = keras.Input(shape=(784,), name=\"digits\")\n",
        "x = keras.layers.Dense(64, activation=\"relu\", name=\"dense_1\")(inputs)\n",
        "x = keras.layers.Dense(64, activation=\"relu\", name=\"dense_2\")(x)\n",
        "outputs = keras.layers.Dense(10, name=\"predictions\")(x)\n",
        "functional_model = keras.Model(inputs=inputs, outputs=outputs, name=\"3_layer_mlp\")\n",
        "\n",
        "# 定义一个相同架构的子类化模型\n",
        "class SubclassedModel(keras.Model):\n",
        "    def __init__(self, output_dim, name=None):\n",
        "        super(SubclassedModel, self).__init__(name=name)\n",
        "        self.output_dim = output_dim\n",
        "        self.dense_1 = keras.layers.Dense(64, activation=\"relu\", name=\"dense_1\")\n",
        "        self.dense_2 = keras.layers.Dense(64, activation=\"relu\", name=\"dense_2\")\n",
        "        self.dense_3 = keras.layers.Dense(output_dim, name=\"predictions\")\n",
        "\n",
        "    def call(self, inputs):\n",
        "        x = self.dense_1(inputs)\n",
        "        x = self.dense_2(x)\n",
        "        x = self.dense_3(x)\n",
        "        return x\n",
        "\n",
        "    def get_config(self):\n",
        "        return {\"output_dim\": self.output_dim, \"name\": self.name}\n",
        "\n",
        "\n",
        "subclassed_model = SubclassedModel(10)\n",
        "# 通过调用子类化模型创建权重\n",
        "subclassed_model(tf.ones((1, 784)))\n",
        "\n",
        "# 将函数式模型的权重复制给子类化模型\n",
        "subclassed_model.set_weights(functional_model.get_weights())\n",
        "\n",
        "assert len(functional_model.weights) == len(subclassed_model.weights)\n",
        "for a, b in zip(functional_model.weights, subclassed_model.weights):\n",
        "    np.testing.assert_allclose(a.numpy(), b.numpy())"
      ],
      "execution_count": 15,
      "outputs": []
    },
    {
      "cell_type": "markdown",
      "metadata": {
        "id": "IxvZtlGrNvx0",
        "colab_type": "text"
      },
      "source": [
        "**无状态层的情况**\n",
        "\n",
        "由于无状态层不会更改权重的顺序或数量，因此即使存在额外的/缺少的无状态层，模型也可以具有兼容的架构。"
      ]
    },
    {
      "cell_type": "code",
      "metadata": {
        "id": "Yj9hXAGhN8p8",
        "colab_type": "code",
        "colab": {}
      },
      "source": [
        "inputs = keras.Input(shape=(784,), name=\"digits\")\n",
        "x = keras.layers.Dense(64, activation=\"relu\", name=\"dense_1\")(inputs)\n",
        "x = keras.layers.Dense(64, activation=\"relu\", name=\"dense_2\")(x)\n",
        "outputs = keras.layers.Dense(10, name=\"predictions\")(x)\n",
        "functional_model = keras.Model(inputs=inputs, outputs=outputs, name=\"3_layer_mlp\")\n",
        "\n",
        "inputs = keras.Input(shape=(784,), name=\"digits\")\n",
        "x = keras.layers.Dense(64, activation=\"relu\", name=\"dense_1\")(inputs)\n",
        "x = keras.layers.Dense(64, activation=\"relu\", name=\"dense_2\")(x)\n",
        "\n",
        "# 添加一个不包含权重的dropout层\n",
        "x = keras.layers.Dropout(0.5)(x)\n",
        "outputs = keras.layers.Dense(10, name=\"predictions\")(x)\n",
        "functional_model_with_dropout = keras.Model(\n",
        "    inputs=inputs, outputs=outputs, name=\"3_layer_mlp\"\n",
        ")\n",
        "\n",
        "functional_model_with_dropout.set_weights(functional_model.get_weights())"
      ],
      "execution_count": 16,
      "outputs": []
    },
    {
      "cell_type": "markdown",
      "metadata": {
        "id": "ZYZXa80yOOl2",
        "colab_type": "text"
      },
      "source": [
        "#### **用于将权重保存到磁盘并重新加载的API**\n",
        "\n",
        "可以以下格式调用`model.save_weights`，将权重保存到磁盘：\n",
        "\n",
        "+ TensorFlow Checkpoint\n",
        "+ HDF5\n",
        "\n",
        "`model.save_weights`的默认格式为TensorFlow checkpoint，有两种指定保存格式的方法：\n",
        "\n",
        "1. `save_format`参数：将值设置为`save_format=\"tf\"`或`save_format=\"h5\"`。\n",
        "2. `path`参数：如果路径以`.h5`或结尾`.hdf5`，则使用HDF5格式。除非`save_format`设置，否则其他后缀将保存为TensorFlow checkpoint。\n",
        "\n",
        "还可以选择将权重作为内存中的numpy数组进行检索。每个API都有其优缺点，下面将详细介绍。\n",
        "\n",
        "#### **TF Checkpoint格式**\n",
        "\n",
        "**示例：**"
      ]
    },
    {
      "cell_type": "code",
      "metadata": {
        "id": "sxdxu4swPZRR",
        "colab_type": "code",
        "colab": {
          "base_uri": "https://localhost:8080/",
          "height": 35
        },
        "outputId": "9e3c032a-1634-414a-e73f-996342463114"
      },
      "source": [
        "# 可运行的模型\n",
        "sequential_model = keras.Sequential(\n",
        "    [\n",
        "        keras.Input(shape=(784,), name=\"digits\"),\n",
        "        keras.layers.Dense(64, activation=\"relu\", name=\"dense_1\"),\n",
        "        keras.layers.Dense(64, activation=\"relu\", name=\"dense_2\"),\n",
        "        keras.layers.Dense(10, name=\"predictions\"),\n",
        "    ]\n",
        ")\n",
        "sequential_model.save_weights(\"ckpt\")\n",
        "load_status = sequential_model.load_weights(\"ckpt\")\n",
        "\n",
        "# `assert_consumed`可以用作验证是否已从checkpoint恢复所\n",
        "# 有变量值。可以参阅`tf.train.Checkpoint.restore`以获取Status对象中的其他方法。\n",
        "load_status.assert_consumed()"
      ],
      "execution_count": 17,
      "outputs": [
        {
          "output_type": "execute_result",
          "data": {
            "text/plain": [
              "<tensorflow.python.training.tracking.util.CheckpointLoadStatus at 0x7f56ea7d9908>"
            ]
          },
          "metadata": {
            "tags": []
          },
          "execution_count": 17
        }
      ]
    },
    {
      "cell_type": "markdown",
      "metadata": {
        "id": "W2vSQtmLPzT9",
        "colab_type": "text"
      },
      "source": [
        "**格式细节**\n",
        "\n",
        "TensorFlow Checkpoint格式使用对象属性名称保存和恢复权重。例如，思考该`tf.keras.layers.Dense`层。该层包含两个权重：`dense.kernel`和`dense.bias`。当该层被保存到`tf`格式，所得到的checkpoint 包含键`\"kernel\"`和`\"bias\"`以及它们相应的权重值。有关更多信息，请参见 [TF Checkpoint指南中的“加载机制”](https://www.tensorflow.org/guide/checkpoint?hl=zh_cn#loading_mechanics)。\n",
        "\n",
        "请注意，属性/图是**以父对象中使用的名称而不是变量的名称**命名的。思考以下示例中的`CustomLayer`。变量`CustomLayer.var`将`\"var\"`作为key的一部分保存，`\"var_a\"`。"
      ]
    },
    {
      "cell_type": "code",
      "metadata": {
        "id": "e0ZpqkgEQ9SK",
        "colab_type": "code",
        "colab": {
          "base_uri": "https://localhost:8080/",
          "height": 71
        },
        "outputId": "dc2bcd27-805d-4a72-ab41-6883d2709b02"
      },
      "source": [
        "class CustomLayer(keras.layers.Layer):\n",
        "    def __init__(self, a):\n",
        "        self.var = tf.Variable(a, name=\"var_a\")\n",
        "\n",
        "\n",
        "layer = CustomLayer(5)\n",
        "layer_ckpt = tf.train.Checkpoint(layer=layer).save(\"custom_layer\")\n",
        "\n",
        "ckpt_reader = tf.train.load_checkpoint(layer_ckpt)\n",
        "\n",
        "ckpt_reader.get_variable_to_dtype_map()"
      ],
      "execution_count": 18,
      "outputs": [
        {
          "output_type": "execute_result",
          "data": {
            "text/plain": [
              "{'_CHECKPOINTABLE_OBJECT_GRAPH': tf.string,\n",
              " 'layer/var/.ATTRIBUTES/VARIABLE_VALUE': tf.int32,\n",
              " 'save_counter/.ATTRIBUTES/VARIABLE_VALUE': tf.int64}"
            ]
          },
          "metadata": {
            "tags": []
          },
          "execution_count": 18
        }
      ]
    },
    {
      "cell_type": "markdown",
      "metadata": {
        "id": "MAYNGzj5ReT1",
        "colab_type": "text"
      },
      "source": [
        "迁移学习的例子\n",
        "\n",
        "本质上，只要两个模型具有相同的架构，它们就可以共享相同的checkpoint。\n",
        "\n",
        "**示例：**"
      ]
    },
    {
      "cell_type": "code",
      "metadata": {
        "id": "UKCjm50-Rsy_",
        "colab_type": "code",
        "colab": {
          "base_uri": "https://localhost:8080/",
          "height": 827
        },
        "outputId": "cbc5940c-1b9f-4f04-da65-87c85d23c2f0"
      },
      "source": [
        "inputs = keras.Input(shape=(784,), name=\"digits\")\n",
        "x = keras.layers.Dense(64, activation=\"relu\", name=\"dense_1\")(inputs)\n",
        "x = keras.layers.Dense(64, activation=\"relu\", name=\"dense_2\")(x)\n",
        "outputs = keras.layers.Dense(10, name=\"predictions\")(x)\n",
        "functional_model = keras.Model(inputs=inputs, outputs=outputs, name=\"3_layer_mlp\")\n",
        "\n",
        "# 引用在“引入”部分中定义的一部分函数式模型。\n",
        "# 以下几行代码产生一个新模型，该模型不包含函数式模型的最终输出层。\n",
        "pretrained = keras.Model(\n",
        "    functional_model.inputs, functional_model.layers[-1].input, name=\"pretrained_model\"\n",
        ")\n",
        "# 随机分配\"trained\"权重\n",
        "for w in pretrained.weights:\n",
        "    w.assign(tf.random.normal(w.shape))\n",
        "pretrained.save_weights(\"pretrained_ckpt\")\n",
        "pretrained.summary()\n",
        "\n",
        "# 假设这是一个单独的项目，其中仅存在\"pretrained_ckpt\"。\n",
        "# 使用一个不同的输出尺寸创建一个新的函数式模型\n",
        "inputs = keras.Input(shape=(784,), name=\"digits\")\n",
        "x = keras.layers.Dense(64, activation=\"relu\", name=\"dense_1\")(inputs)\n",
        "x = keras.layers.Dense(64, activation=\"relu\", name=\"dense_2\")(x)\n",
        "outputs = keras.layers.Dense(5, name=\"predictions\")(x)\n",
        "model = keras.Model(inputs=inputs, outputs=outputs, name=\"new_model\")\n",
        "\n",
        "# 从pretrained_ckpt加载权重到模型中\n",
        "model.load_weights(\"pretrained_ckpt\")\n",
        "\n",
        "# 检查所有的预训练权重是否被加载成功\n",
        "for a, b in zip(pretrained.weights, model.weights):\n",
        "    np.testing.assert_allclose(a.numpy(), b.numpy())\n",
        "\n",
        "print(\"\\n\", \"-\" * 50)\n",
        "model.summary()\n",
        "\n",
        "# 示例2: Sequential模型\n",
        "# 重新创建预训练模型，并加载权重\n",
        "inputs = keras.Input(shape=(784,), name=\"digits\")\n",
        "x = keras.layers.Dense(64, activation=\"relu\", name=\"dense_1\")(inputs)\n",
        "x = keras.layers.Dense(64, activation=\"relu\", name=\"dense_2\")(x)\n",
        "pretrained_model = keras.Model(inputs=inputs, outputs=x, name=\"pretrained\")\n",
        "\n",
        "# Sequential例子:\n",
        "model = keras.Sequential([pretrained_model, keras.layers.Dense(5, name=\"predictions\")])\n",
        "model.summary()\n",
        "\n",
        "pretrained_model.load_weights(\"pretrained_ckpt\")\n",
        "\n",
        "# 警告! 调用`model.load_weights('pretrained_ckpt')`时出现错误\n",
        "# 将无法按照预期工作，如果你检查权重，你将会发现权重没有被正常载入\n",
        "# `pretrained_model.load_weights()`是正确的调用方法"
      ],
      "execution_count": 19,
      "outputs": [
        {
          "output_type": "stream",
          "text": [
            "Model: \"pretrained_model\"\n",
            "_________________________________________________________________\n",
            "Layer (type)                 Output Shape              Param #   \n",
            "=================================================================\n",
            "digits (InputLayer)          [(None, 784)]             0         \n",
            "_________________________________________________________________\n",
            "dense_1 (Dense)              (None, 64)                50240     \n",
            "_________________________________________________________________\n",
            "dense_2 (Dense)              (None, 64)                4160      \n",
            "=================================================================\n",
            "Total params: 54,400\n",
            "Trainable params: 54,400\n",
            "Non-trainable params: 0\n",
            "_________________________________________________________________\n",
            "\n",
            " --------------------------------------------------\n",
            "Model: \"new_model\"\n",
            "_________________________________________________________________\n",
            "Layer (type)                 Output Shape              Param #   \n",
            "=================================================================\n",
            "digits (InputLayer)          [(None, 784)]             0         \n",
            "_________________________________________________________________\n",
            "dense_1 (Dense)              (None, 64)                50240     \n",
            "_________________________________________________________________\n",
            "dense_2 (Dense)              (None, 64)                4160      \n",
            "_________________________________________________________________\n",
            "predictions (Dense)          (None, 5)                 325       \n",
            "=================================================================\n",
            "Total params: 54,725\n",
            "Trainable params: 54,725\n",
            "Non-trainable params: 0\n",
            "_________________________________________________________________\n",
            "Model: \"sequential_3\"\n",
            "_________________________________________________________________\n",
            "Layer (type)                 Output Shape              Param #   \n",
            "=================================================================\n",
            "pretrained (Functional)      (None, 64)                54400     \n",
            "_________________________________________________________________\n",
            "predictions (Dense)          (None, 5)                 325       \n",
            "=================================================================\n",
            "Total params: 54,725\n",
            "Trainable params: 54,725\n",
            "Non-trainable params: 0\n",
            "_________________________________________________________________\n"
          ],
          "name": "stdout"
        },
        {
          "output_type": "execute_result",
          "data": {
            "text/plain": [
              "<tensorflow.python.training.tracking.util.CheckpointLoadStatus at 0x7f56ef98dd30>"
            ]
          },
          "metadata": {
            "tags": []
          },
          "execution_count": 19
        }
      ]
    },
    {
      "cell_type": "markdown",
      "metadata": {
        "id": "RUJm8v-LUH1W",
        "colab_type": "text"
      },
      "source": [
        "通常建议使用相同的API构建模型。如果在“Sequential”和“函数式”或“函数式和子类化”等之间切换，则始终重建预训练模型并将预训练权重加载到该模型。\n",
        "\n",
        "下一个问题是，如果模型架构完全不同，如何将权重保存并加载到不同的模型中？解决方案是使用[`tf.train.Checkpoint`](https://www.tensorflow.org/api_docs/python/tf/train/Checkpoint?hl=zh_cn)来保存和还原具体的层/变量。\n",
        "\n",
        "**示例：**"
      ]
    },
    {
      "cell_type": "code",
      "metadata": {
        "id": "tyz7IYIwUJyZ",
        "colab_type": "code",
        "colab": {
          "base_uri": "https://localhost:8080/",
          "height": 109
        },
        "outputId": "f508b926-d937-4fe5-a21c-1c915940474f"
      },
      "source": [
        "# 创建一个只使用functional_model的第一层和最后一层的子类模型\n",
        "# First, save the weights of functional_model's first and last dense layers.\n",
        "first_dense = functional_model.layers[1]\n",
        "last_dense = functional_model.layers[-1]\n",
        "ckpt_path = tf.train.Checkpoint(\n",
        "    dense=first_dense, kernel=last_dense.kernel, bias=last_dense.bias\n",
        ").save(\"ckpt\")\n",
        "\n",
        "# 定义子类化模型\n",
        "class ContrivedModel(keras.Model):\n",
        "    def __init__(self):\n",
        "        super(ContrivedModel, self).__init__()\n",
        "        self.first_dense = keras.layers.Dense(64)\n",
        "        self.kernel = self.add_variable(\"kernel\", shape=(64, 10))\n",
        "        self.bias = self.add_variable(\"bias\", shape=(10,))\n",
        "\n",
        "    def call(self, inputs):\n",
        "        x = self.first_dense(inputs)\n",
        "        return tf.matmul(x, self.kernel) + self.bias\n",
        "\n",
        "\n",
        "model = ContrivedModel()\n",
        "# 在输入上调用模型以创建密度层的变量\n",
        "_ = model(tf.ones((1, 784)))\n",
        "\n",
        "# 创建具有与以前相同结构的Checkpoint，然后加载权重。\n",
        "tf.train.Checkpoint(\n",
        "    dense=model.first_dense, kernel=model.kernel, bias=model.bias\n",
        ").restore(ckpt_path).assert_consumed()"
      ],
      "execution_count": 20,
      "outputs": [
        {
          "output_type": "stream",
          "text": [
            "WARNING:tensorflow:From <ipython-input-20-5a82153896f8>:14: Layer.add_variable (from tensorflow.python.keras.engine.base_layer) is deprecated and will be removed in a future version.\n",
            "Instructions for updating:\n",
            "Please use `layer.add_weight` method instead.\n"
          ],
          "name": "stdout"
        },
        {
          "output_type": "execute_result",
          "data": {
            "text/plain": [
              "<tensorflow.python.training.tracking.util.CheckpointLoadStatus at 0x7f56ef996ba8>"
            ]
          },
          "metadata": {
            "tags": []
          },
          "execution_count": 20
        }
      ]
    },
    {
      "cell_type": "markdown",
      "metadata": {
        "id": "7ScE_7wuUMS-",
        "colab_type": "text"
      },
      "source": [
        "#### **HDF5格式**\n",
        "\n",
        "HDF5格式包含按层名称分组的权重，权重是通过将可训练权重列表与不可训练权重列表（与`layer.weights`）连接起来并排序的列表。因此，如果模型具有与保存在checkpoint中相同的层和可训练状态，则可以使用hdf5的checkpoint。\n",
        "\n",
        "示例："
      ]
    },
    {
      "cell_type": "code",
      "metadata": {
        "id": "HDGSOWbhUOYr",
        "colab_type": "code",
        "colab": {}
      },
      "source": [
        "# Runnable example\n",
        "sequential_model = keras.Sequential(\n",
        "    [\n",
        "        keras.Input(shape=(784,), name=\"digits\"),\n",
        "        keras.layers.Dense(64, activation=\"relu\", name=\"dense_1\"),\n",
        "        keras.layers.Dense(64, activation=\"relu\", name=\"dense_2\"),\n",
        "        keras.layers.Dense(10, name=\"predictions\"),\n",
        "    ]\n",
        ")\n",
        "sequential_model.save_weights(\"weights.h5\")\n",
        "sequential_model.load_weights(\"weights.h5\")"
      ],
      "execution_count": 21,
      "outputs": []
    },
    {
      "cell_type": "markdown",
      "metadata": {
        "id": "8PlsIbeHUPy4",
        "colab_type": "text"
      },
      "source": [
        "请注意，当模型包含嵌套层时，更改`layer.trainable`可能会导致`layer.weights`顺序不同 。"
      ]
    },
    {
      "cell_type": "code",
      "metadata": {
        "id": "h4FKeiUEUSgC",
        "colab_type": "code",
        "colab": {
          "base_uri": "https://localhost:8080/",
          "height": 125
        },
        "outputId": "d411aa2e-8e6e-4795-c43e-9e1afb503a08"
      },
      "source": [
        "class NestedDenseLayer(keras.layers.Layer):\n",
        "    def __init__(self, units, name=None):\n",
        "        super(NestedDenseLayer, self).__init__(name=name)\n",
        "        self.dense_1 = keras.layers.Dense(units, name=\"dense_1\")\n",
        "        self.dense_2 = keras.layers.Dense(units, name=\"dense_2\")\n",
        "\n",
        "    def call(self, inputs):\n",
        "        return self.dense_2(self.dense_1(inputs))\n",
        "\n",
        "\n",
        "nested_model = keras.Sequential([keras.Input((784,)), NestedDenseLayer(10, \"nested\")])\n",
        "variable_names = [v.name for v in nested_model.weights]\n",
        "print(\"variables: {}\".format(variable_names))\n",
        "\n",
        "print(\"\\nChanging trainable status of one of the nested layers...\")\n",
        "nested_model.get_layer(\"nested\").dense_1.trainable = False\n",
        "\n",
        "variable_names_2 = [v.name for v in nested_model.weights]\n",
        "print(\"\\nvariables: {}\".format(variable_names_2))\n",
        "print(\"variable ordering changed:\", variable_names != variable_names_2)"
      ],
      "execution_count": 22,
      "outputs": [
        {
          "output_type": "stream",
          "text": [
            "variables: ['nested/dense_1/kernel:0', 'nested/dense_1/bias:0', 'nested/dense_2/kernel:0', 'nested/dense_2/bias:0']\n",
            "\n",
            "Changing trainable status of one of the nested layers...\n",
            "\n",
            "variables: ['nested/dense_2/kernel:0', 'nested/dense_2/bias:0', 'nested/dense_1/kernel:0', 'nested/dense_1/bias:0']\n",
            "variable ordering changed: True\n"
          ],
          "name": "stdout"
        }
      ]
    },
    {
      "cell_type": "markdown",
      "metadata": {
        "id": "qkPmXQ7GUVSs",
        "colab_type": "text"
      },
      "source": [
        "#### **迁移学习的例子**\n",
        "\n",
        "从HDF5加载预训练的权重时，建议将权重加载到原始checkpointed模型中，然后将所需的权重/层载入到新模型中。\n",
        "\n",
        "**示例：**"
      ]
    },
    {
      "cell_type": "code",
      "metadata": {
        "id": "o1mHud9kUXA2",
        "colab_type": "code",
        "colab": {
          "base_uri": "https://localhost:8080/",
          "height": 269
        },
        "outputId": "cd5c117a-e2a8-4f25-92f3-19c44ed37694"
      },
      "source": [
        "def create_functional_model():\n",
        "    inputs = keras.Input(shape=(784,), name=\"digits\")\n",
        "    x = keras.layers.Dense(64, activation=\"relu\", name=\"dense_1\")(inputs)\n",
        "    x = keras.layers.Dense(64, activation=\"relu\", name=\"dense_2\")(x)\n",
        "    outputs = keras.layers.Dense(10, name=\"predictions\")(x)\n",
        "    return keras.Model(inputs=inputs, outputs=outputs, name=\"3_layer_mlp\")\n",
        "\n",
        "\n",
        "functional_model = create_functional_model()\n",
        "functional_model.save_weights(\"pretrained_weights.h5\")\n",
        "\n",
        "# In a separate program:\n",
        "pretrained_model = create_functional_model()\n",
        "pretrained_model.load_weights(\"pretrained_weights.h5\")\n",
        "\n",
        "# Create a new model by extracting layers from the original model:\n",
        "extracted_layers = pretrained_model.layers[:-1]\n",
        "extracted_layers.append(keras.layers.Dense(5, name=\"dense_3\"))\n",
        "model = keras.Sequential(extracted_layers)\n",
        "model.summary()"
      ],
      "execution_count": 23,
      "outputs": [
        {
          "output_type": "stream",
          "text": [
            "Model: \"sequential_6\"\n",
            "_________________________________________________________________\n",
            "Layer (type)                 Output Shape              Param #   \n",
            "=================================================================\n",
            "dense_1 (Dense)              (None, 64)                50240     \n",
            "_________________________________________________________________\n",
            "dense_2 (Dense)              (None, 64)                4160      \n",
            "_________________________________________________________________\n",
            "dense_3 (Dense)              (None, 5)                 325       \n",
            "=================================================================\n",
            "Total params: 54,725\n",
            "Trainable params: 54,725\n",
            "Non-trainable params: 0\n",
            "_________________________________________________________________\n"
          ],
          "name": "stdout"
        }
      ]
    }
  ]
}