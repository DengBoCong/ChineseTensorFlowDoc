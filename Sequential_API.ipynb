{
  "nbformat": 4,
  "nbformat_minor": 0,
  "metadata": {
    "colab": {
      "name": "Sequential API.ipynb",
      "provenance": [],
      "collapsed_sections": [],
      "authorship_tag": "ABX9TyPwE8GNQU8FBFvYET3DsROc"
    },
    "kernelspec": {
      "name": "python3",
      "display_name": "Python 3"
    },
    "accelerator": "GPU"
  },
  "cells": [
    {
      "cell_type": "markdown",
      "metadata": {
        "id": "3PJ0ipqgJT7y",
        "colab_type": "text"
      },
      "source": [
        "# **Sequential 模型**\n",
        "\n",
        "### **引入**"
      ]
    },
    {
      "cell_type": "code",
      "metadata": {
        "id": "yekNDBxnKPni",
        "colab_type": "code",
        "colab": {}
      },
      "source": [
        "import tensorflow as tf\n",
        "from tensorflow import keras\n",
        "from tensorflow.keras import layers"
      ],
      "execution_count": 1,
      "outputs": []
    },
    {
      "cell_type": "markdown",
      "metadata": {
        "id": "OjtsPzZnKTAi",
        "colab_type": "text"
      },
      "source": [
        "### **何时使用Sequential模型**\n",
        "Sequential模型类似一个 **层的堆栈**(即`stack`，Sequential源码中有标注，后文讲`add()`和`pop()`方法时，将进一步理解)，其中每个**层正好只有一个输入张量和一个输出张量**。\n",
        "\n",
        "如下所示，如何使用Sequential模型。"
      ]
    },
    {
      "cell_type": "code",
      "metadata": {
        "id": "l_zujYdtMZtx",
        "colab_type": "code",
        "colab": {}
      },
      "source": [
        "# 定义一个具有三个层的Sequential模型\n",
        "model = keras.Sequential(\n",
        "    [\n",
        "        layers.Dense(2, activation=\"relu\", name=\"layer1\"),\n",
        "        layers.Dense(3, activation=\"relu\", name=\"layer2\"),\n",
        "        layers.Dense(4, name=\"layer3\"),\n",
        "    ]\n",
        ")\n",
        "# 使用tf.ones创建一个初值为0的3*3张量，并作为输入调用模型\n",
        "x = tf.ones((3, 3))\n",
        "y = model(x)"
      ],
      "execution_count": 2,
      "outputs": []
    },
    {
      "cell_type": "markdown",
      "metadata": {
        "id": "DNR93vYcOu2m",
        "colab_type": "text"
      },
      "source": [
        "上面的代码等效于如下方法"
      ]
    },
    {
      "cell_type": "code",
      "metadata": {
        "id": "8hLq9BaoPBmO",
        "colab_type": "code",
        "colab": {}
      },
      "source": [
        "# 首先创建3个层\n",
        "layer1 = layers.Dense(2, activation=\"relu\", name=\"layer1\")\n",
        "layer2 = layers.Dense(3, activation=\"relu\", name=\"layer2\")\n",
        "layer3 = layers.Dense(4, name=\"layer3\")\n",
        "\n",
        "# 同样的，使用tf.ones创建一个初值为0的3*3张量，通过嵌套调用达到上述效果\n",
        "x = tf.ones((3, 3))\n",
        "y = layer3(layer2(layer1(x)))"
      ],
      "execution_count": 3,
      "outputs": []
    },
    {
      "cell_type": "markdown",
      "metadata": {
        "id": "MEjAUeydPffQ",
        "colab_type": "text"
      },
      "source": [
        "Sequential模型**不适用**与以下场景：\n",
        "\n",
        "\n",
        "+   模型需要多个输入或输出\n",
        "+   模型中任何一个层需要多个输入或输出\n",
        "+   需要共享某些层的权重时(共享权重)\n",
        "+   需要非线性拓扑构建模型时(如，残差连接，多分支模型)\n",
        "\n",
        "### **创建一个Sequential模型**\n",
        "你可以将一个 **层的列表**传递给Sequential的构造函数，从而构建模型："
      ]
    },
    {
      "cell_type": "code",
      "metadata": {
        "id": "itw79jsdRr7W",
        "colab_type": "code",
        "colab": {}
      },
      "source": [
        "model = keras.Sequential(\n",
        "    [\n",
        "        layers.Dense(2, activation=\"relu\"),\n",
        "        layers.Dense(3, activation=\"relu\"),\n",
        "        layers.Dense(4),\n",
        "    ]\n",
        ")"
      ],
      "execution_count": 4,
      "outputs": []
    },
    {
      "cell_type": "markdown",
      "metadata": {
        "id": "7EQWZ1TXRxdH",
        "colab_type": "text"
      },
      "source": [
        "创建完成之后，**层**作为Sequential模型的一个属性，可以通过`layers`进行访问："
      ]
    },
    {
      "cell_type": "code",
      "metadata": {
        "id": "qspyNQhcShBg",
        "colab_type": "code",
        "colab": {
          "base_uri": "https://localhost:8080/",
          "height": 71
        },
        "outputId": "1e16976c-a8a8-4cf3-8e47-ccdede0d006e"
      },
      "source": [
        "model.layers"
      ],
      "execution_count": 5,
      "outputs": [
        {
          "output_type": "execute_result",
          "data": {
            "text/plain": [
              "[<tensorflow.python.keras.layers.core.Dense at 0x7faf16dce4a8>,\n",
              " <tensorflow.python.keras.layers.core.Dense at 0x7faed54b1470>,\n",
              " <tensorflow.python.keras.layers.core.Dense at 0x7faed54d5240>]"
            ]
          },
          "metadata": {
            "tags": []
          },
          "execution_count": 5
        }
      ]
    },
    {
      "cell_type": "markdown",
      "metadata": {
        "id": "V6JL4FLPT5G3",
        "colab_type": "text"
      },
      "source": [
        "你还可以使用`add()`方法，通过逐个添加层的方式来创建Sequential模型"
      ]
    },
    {
      "cell_type": "code",
      "metadata": {
        "id": "zpekcBkvUXye",
        "colab_type": "code",
        "colab": {}
      },
      "source": [
        "model = keras.Sequential()\n",
        "model.add(layers.Dense(2, activation=\"relu\"))\n",
        "model.add(layers.Dense(3, activation=\"relu\"))\n",
        "model.add(layers.Dense(4))"
      ],
      "execution_count": 6,
      "outputs": []
    },
    {
      "cell_type": "markdown",
      "metadata": {
        "id": "mg-NJFoKUcid",
        "colab_type": "text"
      },
      "source": [
        "值得注意的是，你还可以相应使用`pop()`方法删除层：Sequential模型的行为非常类似于层堆栈，后进先出。"
      ]
    },
    {
      "cell_type": "code",
      "metadata": {
        "id": "187QVlTnV61s",
        "colab_type": "code",
        "colab": {
          "base_uri": "https://localhost:8080/",
          "height": 35
        },
        "outputId": "bc9c4281-be2d-42da-bcd8-30d526fdf129"
      },
      "source": [
        "model.pop()\n",
        "print(len(model.layers))  # 2"
      ],
      "execution_count": 7,
      "outputs": [
        {
          "output_type": "stream",
          "text": [
            "2\n"
          ],
          "name": "stdout"
        }
      ]
    },
    {
      "cell_type": "markdown",
      "metadata": {
        "id": "6SgGmhEZWTT7",
        "colab_type": "text"
      },
      "source": [
        "同样值得注意的是，和Keras中任何层或者模型一样，Sequential的构造函数也接受一个`name`参数。当你使用[TensorBoard](https://www.tensorflow.org/tensorboard?hl=zh-cn)的时候，有一个言简意赅的标识是非常有用的。"
      ]
    },
    {
      "cell_type": "code",
      "metadata": {
        "id": "bqU1qdMVXnv4",
        "colab_type": "code",
        "colab": {}
      },
      "source": [
        "model = keras.Sequential(name=\"my_sequential\")\n",
        "model.add(layers.Dense(2, activation=\"relu\", name=\"layer1\"))\n",
        "model.add(layers.Dense(3, activation=\"relu\", name=\"layer2\"))\n",
        "model.add(layers.Dense(4, name=\"layer3\"))"
      ],
      "execution_count": 8,
      "outputs": []
    },
    {
      "cell_type": "markdown",
      "metadata": {
        "id": "4auldZ-4XtXT",
        "colab_type": "text"
      },
      "source": [
        "### **预先指定输入形状**\n",
        "通常情况下，Keras中所有的层需要知道输入形状，以此来创建相对应的权重。所以，当你按照如下方式创建层时，它是没有创建权重的。\n"
      ]
    },
    {
      "cell_type": "code",
      "metadata": {
        "id": "ucPALf01YjYd",
        "colab_type": "code",
        "colab": {
          "base_uri": "https://localhost:8080/",
          "height": 35
        },
        "outputId": "02d587eb-508d-4e4f-9cc4-bff2cdac2689"
      },
      "source": [
        "layer = layers.Dense(3)\n",
        "layer.weights  # Empty"
      ],
      "execution_count": 9,
      "outputs": [
        {
          "output_type": "execute_result",
          "data": {
            "text/plain": [
              "[]"
            ]
          },
          "metadata": {
            "tags": []
          },
          "execution_count": 9
        }
      ]
    },
    {
      "cell_type": "markdown",
      "metadata": {
        "id": "QB_Fls2dYlJf",
        "colab_type": "text"
      },
      "source": [
        "上面的层在首次调用时，会根据输入创建一个权重，因此权重的形状是依据输入的形状决定的。"
      ]
    },
    {
      "cell_type": "code",
      "metadata": {
        "id": "0bpEWATtZLqN",
        "colab_type": "code",
        "colab": {
          "base_uri": "https://localhost:8080/",
          "height": 125
        },
        "outputId": "9a0fde82-f5e6-42fe-87ea-637a3f34885f"
      },
      "source": [
        "# 用一个测试输入调用层\n",
        "x = tf.ones((1, 4))\n",
        "y = layer(x)\n",
        "layer.weights  # 现在该层有一个权重，且形状为 (4, 3)和(3,)\n",
        "#layer.weights是一个列表，就是训练所得的参数"
      ],
      "execution_count": 10,
      "outputs": [
        {
          "output_type": "execute_result",
          "data": {
            "text/plain": [
              "[<tf.Variable 'dense_6/kernel:0' shape=(4, 3) dtype=float32, numpy=\n",
              " array([[ 0.09806406,  0.17182934,  0.89879775],\n",
              "        [ 0.9138992 , -0.56964076, -0.76726407],\n",
              "        [ 0.7982029 ,  0.03965396, -0.2665696 ],\n",
              "        [ 0.44654357, -0.11062503, -0.41917628]], dtype=float32)>,\n",
              " <tf.Variable 'dense_6/bias:0' shape=(3,) dtype=float32, numpy=array([0., 0., 0.], dtype=float32)>]"
            ]
          },
          "metadata": {
            "tags": []
          },
          "execution_count": 10
        }
      ]
    },
    {
      "cell_type": "markdown",
      "metadata": {
        "id": "JhV-jZ8naJ7g",
        "colab_type": "text"
      },
      "source": [
        "当然，上述权重的创建也同样适用于Sequential模型，当你实例化模型且没有预先指定输入形状，模型是没有被“创建”的：也就意味着没有对应的权重(当调用`model.weights`时会报错)，当输入数据时，会根据输入形状创建权重。"
      ]
    },
    {
      "cell_type": "code",
      "metadata": {
        "id": "eVTNPNvCbkwE",
        "colab_type": "code",
        "colab": {
          "base_uri": "https://localhost:8080/",
          "height": 35
        },
        "outputId": "d7530181-ed2b-4fc3-f997-b8a63542954b"
      },
      "source": [
        "model = keras.Sequential(\n",
        "    [\n",
        "        layers.Dense(2, activation=\"relu\"),\n",
        "        layers.Dense(3, activation=\"relu\"),\n",
        "        layers.Dense(4),\n",
        "    ]\n",
        ")  # 到这一步时，权重没有被创建\n",
        "\n",
        "# 也就是说，你不可以调用如下代码：\n",
        "# model.weights\n",
        "\n",
        "# 当然，你也不可以调用如下代码：\n",
        "# model.summary()\n",
        "\n",
        "# 使用一个测试输入调用模型\n",
        "x = tf.ones((1, 4))\n",
        "y = model(x)\n",
        "print(\"Number of weights after calling the model:\", len(model.weights))  # 6"
      ],
      "execution_count": 11,
      "outputs": [
        {
          "output_type": "stream",
          "text": [
            "Number of weights after calling the model: 6\n"
          ],
          "name": "stdout"
        }
      ]
    },
    {
      "cell_type": "markdown",
      "metadata": {
        "id": "YeTvOWBccD5t",
        "colab_type": "text"
      },
      "source": [
        "当模型“创建”的时，你可以调用`summary()`方法，查看模型的相关信息："
      ]
    },
    {
      "cell_type": "code",
      "metadata": {
        "id": "FNzng_rHcRlc",
        "colab_type": "code",
        "colab": {
          "base_uri": "https://localhost:8080/",
          "height": 269
        },
        "outputId": "94ba5ce6-7cad-4387-c678-ce13e7eee9da"
      },
      "source": [
        "model.summary()"
      ],
      "execution_count": 12,
      "outputs": [
        {
          "output_type": "stream",
          "text": [
            "Model: \"sequential_3\"\n",
            "_________________________________________________________________\n",
            "Layer (type)                 Output Shape              Param #   \n",
            "=================================================================\n",
            "dense_7 (Dense)              multiple                  10        \n",
            "_________________________________________________________________\n",
            "dense_8 (Dense)              multiple                  9         \n",
            "_________________________________________________________________\n",
            "dense_9 (Dense)              multiple                  16        \n",
            "=================================================================\n",
            "Total params: 35\n",
            "Trainable params: 35\n",
            "Non-trainable params: 0\n",
            "_________________________________________________________________\n"
          ],
          "name": "stdout"
        }
      ]
    },
    {
      "cell_type": "markdown",
      "metadata": {
        "id": "0EKEk3cucbXw",
        "colab_type": "text"
      },
      "source": [
        "然而，如果我们能在渐进式的构建模型时，调用`summary()`查看相关信息(包括输入形状等)将会非常有帮助。因此，你可以通过传入`Input`对象的方式，指定输入的形状。"
      ]
    },
    {
      "cell_type": "code",
      "metadata": {
        "id": "L5PAE2g4d_45",
        "colab_type": "code",
        "colab": {
          "base_uri": "https://localhost:8080/",
          "height": 197
        },
        "outputId": "6a689850-8438-4c55-8399-65e85d0b7933"
      },
      "source": [
        "model = keras.Sequential()\n",
        "model.add(keras.Input(shape=(4,)))\n",
        "model.add(layers.Dense(2, activation=\"relu\"))\n",
        "\n",
        "model.summary()"
      ],
      "execution_count": 13,
      "outputs": [
        {
          "output_type": "stream",
          "text": [
            "Model: \"sequential_4\"\n",
            "_________________________________________________________________\n",
            "Layer (type)                 Output Shape              Param #   \n",
            "=================================================================\n",
            "dense_10 (Dense)             (None, 2)                 10        \n",
            "=================================================================\n",
            "Total params: 10\n",
            "Trainable params: 10\n",
            "Non-trainable params: 0\n",
            "_________________________________________________________________\n"
          ],
          "name": "stdout"
        }
      ]
    },
    {
      "cell_type": "markdown",
      "metadata": {
        "id": "oNnEKPPZeHuC",
        "colab_type": "text"
      },
      "source": [
        "由上面信息我们可以发现，`Input`对象不是`model.layers`的一部分，所以它不是层："
      ]
    },
    {
      "cell_type": "code",
      "metadata": {
        "id": "6lX_CpkWeXZS",
        "colab_type": "code",
        "colab": {
          "base_uri": "https://localhost:8080/",
          "height": 35
        },
        "outputId": "f2704c17-6bb1-4392-bdc9-7c0cf1d018bc"
      },
      "source": [
        "model.layers"
      ],
      "execution_count": 14,
      "outputs": [
        {
          "output_type": "execute_result",
          "data": {
            "text/plain": [
              "[<tensorflow.python.keras.layers.core.Dense at 0x7faf20c0dc50>]"
            ]
          },
          "metadata": {
            "tags": []
          },
          "execution_count": 14
        }
      ]
    },
    {
      "cell_type": "markdown",
      "metadata": {
        "id": "1W4Ut9k7edyW",
        "colab_type": "text"
      },
      "source": [
        "还有一种更简单的方式指定输入形状，即在模型的第一层中，传入`input_shape`参数"
      ]
    },
    {
      "cell_type": "code",
      "metadata": {
        "id": "5-nsVK-ker2Z",
        "colab_type": "code",
        "colab": {
          "base_uri": "https://localhost:8080/",
          "height": 197
        },
        "outputId": "88f12c1f-193c-4e0b-cc0c-1e7a9bc02c18"
      },
      "source": [
        "model = keras.Sequential()\n",
        "model.add(layers.Dense(2, activation=\"relu\", input_shape=(4,)))\n",
        "\n",
        "model.summary()"
      ],
      "execution_count": 15,
      "outputs": [
        {
          "output_type": "stream",
          "text": [
            "Model: \"sequential_5\"\n",
            "_________________________________________________________________\n",
            "Layer (type)                 Output Shape              Param #   \n",
            "=================================================================\n",
            "dense_11 (Dense)             (None, 2)                 10        \n",
            "=================================================================\n",
            "Total params: 10\n",
            "Trainable params: 10\n",
            "Non-trainable params: 0\n",
            "_________________________________________________________________\n"
          ],
          "name": "stdout"
        }
      ]
    },
    {
      "cell_type": "markdown",
      "metadata": {
        "id": "5q-VV5l7e5Yg",
        "colab_type": "text"
      },
      "source": [
        "通过这种方式，在不需要传入输入数据的情况下，模型将会根据预定义的输入形状进行创建，且模型具有对应的权重以及输入形状。\n",
        "\n",
        "通常情况下，如果你预先知道模型的输入形状的话，最佳的做法就是如上指定输入形状。\n",
        "\n",
        "### **通用的调试流程：add() + summary()**\n",
        "\n",
        "当你在构建一个新的Sequential模型结构时，通过`add()`方法渐进式的添加层以及频繁的使用`summary()`查看相关信息将会非常有帮助。如下示例，通过上述方式，将可以监控由`Conv2D`和`MaxPooling2D`层构建的模型，是如何对图片进行降采样得到feature maps(**在cnn的每个卷积层，数据都是以三维形式存在的，你可以把它看成许多个二维图片叠在一起，其中每一个层为一个feature map**)"
      ]
    },
    {
      "cell_type": "code",
      "metadata": {
        "id": "d2gEwD5GiBNd",
        "colab_type": "code",
        "colab": {
          "base_uri": "https://localhost:8080/",
          "height": 737
        },
        "outputId": "bd2b902b-aa0e-4c75-b6bd-b16b0dfc6c9e"
      },
      "source": [
        "model = keras.Sequential()\n",
        "model.add(keras.Input(shape=(250, 250, 3)))  # 250x250 RGB images\n",
        "model.add(layers.Conv2D(32, 5, strides=2, activation=\"relu\"))\n",
        "model.add(layers.Conv2D(32, 3, activation=\"relu\"))\n",
        "model.add(layers.MaxPooling2D(3))\n",
        "\n",
        "# 你可以猜到此时的输出形状是什么么？可能不可以\n",
        "# 将信息打印出来:\n",
        "model.summary()\n",
        "\n",
        "# 答案是: (40, 40, 32), 所以，我们可以继续进行降采样...\n",
        "\n",
        "model.add(layers.Conv2D(32, 3, activation=\"relu\"))\n",
        "model.add(layers.Conv2D(32, 3, activation=\"relu\"))\n",
        "model.add(layers.MaxPooling2D(3))\n",
        "model.add(layers.Conv2D(32, 3, activation=\"relu\"))\n",
        "model.add(layers.Conv2D(32, 3, activation=\"relu\"))\n",
        "model.add(layers.MaxPooling2D(2))\n",
        "\n",
        "# 现在呢?\n",
        "model.summary()\n",
        "\n",
        "# 现在我们得到 4x4 feature maps, 此时应用最大池化.\n",
        "model.add(layers.GlobalMaxPooling2D())\n",
        "\n",
        "# 最后, 我们添加一个分类层\n",
        "model.add(layers.Dense(10))"
      ],
      "execution_count": 16,
      "outputs": [
        {
          "output_type": "stream",
          "text": [
            "Model: \"sequential_6\"\n",
            "_________________________________________________________________\n",
            "Layer (type)                 Output Shape              Param #   \n",
            "=================================================================\n",
            "conv2d (Conv2D)              (None, 123, 123, 32)      2432      \n",
            "_________________________________________________________________\n",
            "conv2d_1 (Conv2D)            (None, 121, 121, 32)      9248      \n",
            "_________________________________________________________________\n",
            "max_pooling2d (MaxPooling2D) (None, 40, 40, 32)        0         \n",
            "=================================================================\n",
            "Total params: 11,680\n",
            "Trainable params: 11,680\n",
            "Non-trainable params: 0\n",
            "_________________________________________________________________\n",
            "Model: \"sequential_6\"\n",
            "_________________________________________________________________\n",
            "Layer (type)                 Output Shape              Param #   \n",
            "=================================================================\n",
            "conv2d (Conv2D)              (None, 123, 123, 32)      2432      \n",
            "_________________________________________________________________\n",
            "conv2d_1 (Conv2D)            (None, 121, 121, 32)      9248      \n",
            "_________________________________________________________________\n",
            "max_pooling2d (MaxPooling2D) (None, 40, 40, 32)        0         \n",
            "_________________________________________________________________\n",
            "conv2d_2 (Conv2D)            (None, 38, 38, 32)        9248      \n",
            "_________________________________________________________________\n",
            "conv2d_3 (Conv2D)            (None, 36, 36, 32)        9248      \n",
            "_________________________________________________________________\n",
            "max_pooling2d_1 (MaxPooling2 (None, 12, 12, 32)        0         \n",
            "_________________________________________________________________\n",
            "conv2d_4 (Conv2D)            (None, 10, 10, 32)        9248      \n",
            "_________________________________________________________________\n",
            "conv2d_5 (Conv2D)            (None, 8, 8, 32)          9248      \n",
            "_________________________________________________________________\n",
            "max_pooling2d_2 (MaxPooling2 (None, 4, 4, 32)          0         \n",
            "=================================================================\n",
            "Total params: 48,672\n",
            "Trainable params: 48,672\n",
            "Non-trainable params: 0\n",
            "_________________________________________________________________\n"
          ],
          "name": "stdout"
        }
      ]
    },
    {
      "cell_type": "markdown",
      "metadata": {
        "id": "OBIzLpqQjXRL",
        "colab_type": "text"
      },
      "source": [
        "很实用，对吧？\n",
        "\n",
        "### **你可以用创建的模型干什么？**\n",
        "当你的完成了模型结构的构建，可能你想要用它来做如下事情：\n",
        "+ 训练、评估、推断你的模型，可以参考[内循环训练和评估指南](https://www.tensorflow.org/guide/keras/train_and_evaluate/)\n",
        "+ 将你的模型打包保存在硬盘中，可以参考[序列化和保存指南](https://www.tensorflow.org/guide/keras/save_and_serialize/)\n",
        "+ 利用多个GPU加速模型的训练，可以参考[多GPU和分布式训练指南](https://www.tensorflow.org/guide/keras/distributed_training)\n",
        "\n",
        "### **使用顺序模型进行特征提取**\n",
        "\n",
        "一旦创建好的Sequential模型，它的行为就类似于函数式API模型。这也就意味着每一层拥有着输入和输出属性。这些属性可以简化一些工作，如通过提取模型的所有中间层，可以快速的创建一个Sequential模型。"
      ]
    },
    {
      "cell_type": "code",
      "metadata": {
        "id": "sMD4Xtegl_55",
        "colab_type": "code",
        "colab": {}
      },
      "source": [
        "initial_model = keras.Sequential(\n",
        "    [\n",
        "        keras.Input(shape=(250, 250, 3)),\n",
        "        layers.Conv2D(32, 5, strides=2, activation=\"relu\"),\n",
        "        layers.Conv2D(32, 3, activation=\"relu\"),\n",
        "        layers.Conv2D(32, 3, activation=\"relu\"),\n",
        "    ]\n",
        ")\n",
        "feature_extractor = keras.Model(\n",
        "    inputs=initial_model.inputs,\n",
        "    outputs=[layer.output for layer in initial_model.layers],\n",
        ")\n",
        "\n",
        "# 使用测试输入调用特征提取\n",
        "x = tf.ones((1, 250, 250, 3))\n",
        "features = feature_extractor(x)"
      ],
      "execution_count": 17,
      "outputs": []
    },
    {
      "cell_type": "markdown",
      "metadata": {
        "id": "5PZXDEDDmaLj",
        "colab_type": "text"
      },
      "source": [
        "下面是类似的例子，对单个层进行特征提取："
      ]
    },
    {
      "cell_type": "code",
      "metadata": {
        "id": "tWW9QQvpmi3c",
        "colab_type": "code",
        "colab": {}
      },
      "source": [
        "initial_model = keras.Sequential(\n",
        "    [\n",
        "        keras.Input(shape=(250, 250, 3)),\n",
        "        layers.Conv2D(32, 5, strides=2, activation=\"relu\"),\n",
        "        layers.Conv2D(32, 3, activation=\"relu\", name=\"my_intermediate_layer\"),\n",
        "        layers.Conv2D(32, 3, activation=\"relu\"),\n",
        "    ]\n",
        ")\n",
        "feature_extractor = keras.Model(\n",
        "    inputs=initial_model.inputs,\n",
        "    outputs=initial_model.get_layer(name=\"my_intermediate_layer\").output,\n",
        ")\n",
        "# 使用测试输入调用特征提取\n",
        "x = tf.ones((1, 250, 250, 3))\n",
        "features = feature_extractor(x)"
      ],
      "execution_count": null,
      "outputs": []
    },
    {
      "cell_type": "markdown",
      "metadata": {
        "id": "WoZF4Ppjmqsp",
        "colab_type": "text"
      },
      "source": [
        "### **使用Sequential模型完成迁移学习**\n",
        "\n",
        "迁移学习冻结模型底部的层，仅仅使用顶部的层进行训练，如果你不熟悉迁移学习，请先看[迁移学习指南](https://www.tensorflow.org/guide/keras/transfer_learning/)\n",
        "\n",
        "这里将使用Sequential模型，举例两个常见的迁移学习策略。\n",
        "\n",
        "首先，我们需要有一个Sequential模型，然后你需要冻结除了最后一层之外的其他层，在这个例子中，你只需要通过迭代`model.layers`，对除了最后一层之外的每个层设置`layer.trainable = False`，如下所示："
      ]
    },
    {
      "cell_type": "code",
      "metadata": {
        "id": "t6DDLgQZoNQe",
        "colab_type": "code",
        "colab": {}
      },
      "source": [
        "model = keras.Sequential([\n",
        "    keras.Input(shape=(784))\n",
        "    layers.Dense(32, activation='relu'),\n",
        "    layers.Dense(32, activation='relu'),\n",
        "    layers.Dense(32, activation='relu'),\n",
        "    layers.Dense(10),\n",
        "])\n",
        "\n",
        "# 想必你可能想要先加载预训练权重\n",
        "model.load_weights(...)\n",
        "\n",
        "# 冻结除了最后一层之外的其他层\n",
        "for layer in model.layers[:-1]:\n",
        "  layer.trainable = False\n",
        "\n",
        "# 编译和训练 (只会更新最后一层的权重)\n",
        "model.compile(...)\n",
        "model.fit(...)"
      ],
      "execution_count": null,
      "outputs": []
    },
    {
      "cell_type": "markdown",
      "metadata": {
        "id": "Y-5lJjdnoqEQ",
        "colab_type": "text"
      },
      "source": [
        "基于同样的构建策略，我们使用Sequential将一个预训练的模型和一个新初始化的分类层堆叠在一起，如下所示："
      ]
    },
    {
      "cell_type": "code",
      "metadata": {
        "id": "6AIYrOCgpNEY",
        "colab_type": "code",
        "colab": {}
      },
      "source": [
        "# 加载一个带有预训练权重的卷积基\n",
        "base_model = keras.applications.Xception(\n",
        "    weights='imagenet',\n",
        "    include_top=False,\n",
        "    pooling='avg')\n",
        "\n",
        "# 冻结该模型\n",
        "base_model.trainable = False\n",
        "\n",
        "# 使用Sequential模型，将一个分类器添加到顶部\n",
        "model = keras.Sequential([\n",
        "    base_model,\n",
        "    layers.Dense(1000),\n",
        "])\n",
        "\n",
        "# 编译 & 训练\n",
        "model.compile(...)\n",
        "model.fit(...)"
      ],
      "execution_count": null,
      "outputs": []
    },
    {
      "cell_type": "markdown",
      "metadata": {
        "id": "OGFja2YlpqFR",
        "colab_type": "text"
      },
      "source": [
        "如果你进行迁移学习，你可能会经常使用这两种模式。\n",
        "\n",
        "以上就是需要了解的Sequential模型的全部内容！ \n",
        "要了解有关在Keras中构建模型的更多信息，请参见：\n",
        "+ [函数式API指南](https://www.tensorflow.org/guide/keras/functional/)\n",
        "+ [通过子类创建新的层和模型指南](https://www.tensorflow.org/guide/keras/custom_layers_and_models/)"
      ]
    }
  ]
}