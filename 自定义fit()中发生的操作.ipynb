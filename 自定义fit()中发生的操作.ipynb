{
  "nbformat": 4,
  "nbformat_minor": 0,
  "metadata": {
    "colab": {
      "name": "自定义fit()中发生的操作.ipynb",
      "provenance": [],
      "collapsed_sections": [],
      "authorship_tag": "ABX9TyMDPZuF1V2mBzUxNE3JbCAP"
    },
    "kernelspec": {
      "name": "python3",
      "display_name": "Python 3"
    }
  },
  "cells": [
    {
      "cell_type": "markdown",
      "metadata": {
        "id": "eeKQGrcU8o2V",
        "colab_type": "text"
      },
      "source": [
        "# **自定义fit()中发生的操作**\n",
        "\n",
        "### **介绍**\n",
        "\n",
        "当你使用监督学习时，你可以使用`fit()`，一切都可以顺利进行。\n",
        "\n",
        "当你需要从头开始编写自己的训练循环时，可以使用`GradientTape`并控制每个小细节。\n",
        "\n",
        "但是，如果你需要自定义训练算法，并且仍然想要使用fit()相关的便利特性，例如回调，内置分发支持或分步融合，该怎么办？\n",
        "\n",
        "Keras的核心原则是**逐步揭示复杂性**。你应该始终能够逐步进入较底层的工作流程。如果高级功能与你的案例不完全匹配，那么你不应该弃用高级功能转向底层功能。你应该在更好地控制小细节的同时，保留相当数量的高级功能带来的便利。\n",
        "\n",
        "当需要自定义`fit()`时，你应该覆盖`Model`类的训练步骤方法。这些方法是`fit()`在每个批量数据中调用的函数。接着，你将保证`fit()`能够照常调用--它将运行你自己的学习算法。\n",
        "\n",
        "请注意，上述模式同样适用于函数式API构建模型。无论是构建`Sequential`模型，函数式API模型还是子类化模型，都可以执行此操作。\n",
        "\n",
        "接下来，让我们看看上述模式是如何工作的。\n",
        "\n",
        "### **引入**\n",
        "要求TensorFlow 2.2或更高版本。"
      ]
    },
    {
      "cell_type": "code",
      "metadata": {
        "id": "g7hp-vZJ_1eE",
        "colab_type": "code",
        "colab": {}
      },
      "source": [
        "import tensorflow as tf\n",
        "from tensorflow import keras"
      ],
      "execution_count": 1,
      "outputs": []
    },
    {
      "cell_type": "markdown",
      "metadata": {
        "id": "81p3dyfU_3hN",
        "colab_type": "text"
      },
      "source": [
        "### **第一个简单的示例**\n",
        "\n",
        "让我们从一个简单的示例开始：\n",
        "\n",
        "+ 我们创建一个新的[`keras.Model`](https://www.tensorflow.org/api_docs/python/tf/keras/Model)子类\n",
        "+ 我们只是重写`train_step(self, data)`方法\n",
        "+ 我们返回一个将指标名称（包括损失）映射到其当前值的字典\n",
        "\n",
        "输入参数`data`是传递用于fit训练数据的参数：\n",
        "\n",
        "+ 如果你通过调用`fit(x, y, ...)`传递numpy数组，那么`data`将是元组`(x, y)`\n",
        "+ 如果你通过调用`fit(dataset, ...)`传递的是`tf.data.Dataset`，那么`data`将会是dataset生成的批量数据\n",
        "\n",
        "类似于你已经熟悉的内容，在该`train_step`方法的主体中，我们也将进行定期的训练更新。重要的是，我们通过`self.compiled_loss`计算损失，该损失包含了传递给`compile()`的损失函数。\n",
        "\n",
        "同样，我们调用`self.compiled_metrics.update_state(y, y_pred)`来更新传入`compile()`的指标的状态，并从通过`self.metrics`查询最终结果以检索其当前值。"
      ]
    },
    {
      "cell_type": "code",
      "metadata": {
        "id": "gCLRCQIm8Xte",
        "colab_type": "code",
        "colab": {}
      },
      "source": [
        "class CustomModel(keras.Model):\n",
        "    def train_step(self, data):\n",
        "        # 分离数据，它的结构取决于你的模型以及传递给`fit（）`的内容。\n",
        "        x, y = data\n",
        "\n",
        "        with tf.GradientTape() as tape:\n",
        "            y_pred = self(x, training=True)  # 前向传递\n",
        "            # 计算损失值（在compile()中配置的损失函数）\n",
        "            loss = self.compiled_loss(y, y_pred, regularization_losses=self.losses)\n",
        "\n",
        "        # 计算梯度\n",
        "        trainable_vars = self.trainable_variables\n",
        "        gradients = tape.gradient(loss, trainable_vars)\n",
        "        # 更新权重\n",
        "        self.optimizer.apply_gradients(zip(gradients, trainable_vars))\n",
        "        # 更新指标(包括跟踪损失的指标)\n",
        "        self.compiled_metrics.update_state(y, y_pred)\n",
        "        # 返回一个将指标名称映射到当前值的字典\n",
        "        return {m.name: m.result() for m in self.metrics}"
      ],
      "execution_count": 2,
      "outputs": []
    },
    {
      "cell_type": "markdown",
      "metadata": {
        "id": "97D-QXQs__B7",
        "colab_type": "text"
      },
      "source": [
        "让我们尝试调用一下："
      ]
    },
    {
      "cell_type": "code",
      "metadata": {
        "id": "O3JXIpc9__gY",
        "colab_type": "code",
        "colab": {
          "base_uri": "https://localhost:8080/",
          "height": 143
        },
        "outputId": "54742cc1-fcb9-424a-ddc1-e82623093e0c"
      },
      "source": [
        "import numpy as np\n",
        "\n",
        "# 构造并编译CustomModel的实例\n",
        "inputs = keras.Input(shape=(32,))\n",
        "outputs = keras.layers.Dense(1)(inputs)\n",
        "model = CustomModel(inputs, outputs)\n",
        "model.compile(optimizer=\"adam\", loss=\"mse\", metrics=[\"mae\"])\n",
        "\n",
        "# 照常使用`fit`\n",
        "x = np.random.random((1000, 32))\n",
        "y = np.random.random((1000, 1))\n",
        "model.fit(x, y, epochs=3)"
      ],
      "execution_count": 3,
      "outputs": [
        {
          "output_type": "stream",
          "text": [
            "Epoch 1/3\n",
            "32/32 [==============================] - 0s 888us/step - loss: 0.2881 - mae: 0.4368\n",
            "Epoch 2/3\n",
            "32/32 [==============================] - 0s 834us/step - loss: 0.2592 - mae: 0.4106\n",
            "Epoch 3/3\n",
            "32/32 [==============================] - 0s 795us/step - loss: 0.2471 - mae: 0.4017\n"
          ],
          "name": "stdout"
        },
        {
          "output_type": "execute_result",
          "data": {
            "text/plain": [
              "<tensorflow.python.keras.callbacks.History at 0x7fb6ef196828>"
            ]
          },
          "metadata": {
            "tags": []
          },
          "execution_count": 3
        }
      ]
    },
    {
      "cell_type": "markdown",
      "metadata": {
        "id": "FCIn16QRAB0N",
        "colab_type": "text"
      },
      "source": [
        "### **更底层的操作**\n",
        "\n",
        "当然，你可以直接跳过`compile()`中传递的损失函数，然后尽可能地在`train_step`中手动完成。指标也是如此。这是一个较低级的示例，仅仅使用了`compile()`配置优化器："
      ]
    },
    {
      "cell_type": "code",
      "metadata": {
        "id": "Xw8cL3L6AID6",
        "colab_type": "code",
        "colab": {
          "base_uri": "https://localhost:8080/",
          "height": 53
        },
        "outputId": "8ca161ad-b84e-4227-e08e-52e610674616"
      },
      "source": [
        "mae_metric = keras.metrics.MeanAbsoluteError(name=\"mae\")\n",
        "loss_tracker = keras.metrics.Mean(name=\"loss\")\n",
        "\n",
        "\n",
        "class CustomModel(keras.Model):\n",
        "    def train_step(self, data):\n",
        "        x, y = data\n",
        "\n",
        "        with tf.GradientTape() as tape:\n",
        "            y_pred = self(x, training=True)  # 前向传递\n",
        "            # 计算损失\n",
        "            loss = keras.losses.mean_squared_error(y, y_pred)\n",
        "\n",
        "        # 计算梯度\n",
        "        trainable_vars = self.trainable_variables\n",
        "        gradients = tape.gradient(loss, trainable_vars)\n",
        "\n",
        "        # 更新权重\n",
        "        self.optimizer.apply_gradients(zip(gradients, trainable_vars))\n",
        "\n",
        "        # 计算指标\n",
        "        loss_tracker.update_state(loss)\n",
        "        mae_metric.update_state(y, y_pred)\n",
        "        return {\"loss\": loss_tracker.result(), \"mae\": mae_metric.result()}\n",
        "\n",
        "\n",
        "# 构造并编译CustomModel的实例\n",
        "inputs = keras.Input(shape=(32,))\n",
        "outputs = keras.layers.Dense(1)(inputs)\n",
        "model = CustomModel(inputs, outputs)\n",
        "\n",
        "# 我们在这里不传递损失和指标\n",
        "model.compile(optimizer=\"adam\")\n",
        "\n",
        "# 照常使用`fit` -- 你依旧可以使用回调等等\n",
        "x = np.random.random((1000, 32))\n",
        "y = np.random.random((1000, 1))\n",
        "model.fit(x, y, epochs=1)"
      ],
      "execution_count": 4,
      "outputs": [
        {
          "output_type": "stream",
          "text": [
            "32/32 [==============================] - 0s 859us/step - loss: 0.6277 - mae: 0.6631\n"
          ],
          "name": "stdout"
        },
        {
          "output_type": "execute_result",
          "data": {
            "text/plain": [
              "<tensorflow.python.keras.callbacks.History at 0x7fb6ecac25c0>"
            ]
          },
          "metadata": {
            "tags": []
          },
          "execution_count": 4
        }
      ]
    },
    {
      "cell_type": "markdown",
      "metadata": {
        "id": "oIGnvoM9AKKn",
        "colab_type": "text"
      },
      "source": [
        "请注意，使用此设置后，你需要在每个epoch之后，或者训练和评估间，手动调用`reset_states()`\n",
        "\n",
        "### **支持sample_weight与class_weight**\n",
        "\n",
        "你可能已经注意到，我们的第一个基本示例中没有提及样本权重。如果要支持`fit()`的参数`sample_weight`和`class_weight`，则只需执行以下操作：\n",
        "\n",
        "+ 将`sample_weight`从`data`参数中分离出来\n",
        "+ 将其传递给`compiled_loss`＆`compiled_metrics`（当然，如果你不依赖`compile()`传递损失和指标，也可以手动应用它）\n",
        "+ 仅此而已，下面进行具体示例"
      ]
    },
    {
      "cell_type": "code",
      "metadata": {
        "id": "KclaCZEMAP8s",
        "colab_type": "code",
        "colab": {
          "base_uri": "https://localhost:8080/",
          "height": 143
        },
        "outputId": "64febc8e-6a16-4b2f-de17-0d2d0bde0059"
      },
      "source": [
        "class CustomModel(keras.Model):\n",
        "    def train_step(self, data):\n",
        "        # 分离数据，它的结构取决于你的模型以及传递给`fit（）`的内容。\n",
        "        if len(data) == 3:\n",
        "            x, y, sample_weight = data\n",
        "        else:\n",
        "            x, y = data\n",
        "\n",
        "        with tf.GradientTape() as tape:\n",
        "            y_pred = self(x, training=True)  # Forward pass\n",
        "            # 计算损失\n",
        "            # 这里的损失函数是由`compile()`配置的\n",
        "            loss = self.compiled_loss(\n",
        "                y,\n",
        "                y_pred,\n",
        "                sample_weight=sample_weight,\n",
        "                regularization_losses=self.losses,\n",
        "            )\n",
        "\n",
        "        # 计算梯度\n",
        "        trainable_vars = self.trainable_variables\n",
        "        gradients = tape.gradient(loss, trainable_vars)\n",
        "\n",
        "        # 更新权重\n",
        "        self.optimizer.apply_gradients(zip(gradients, trainable_vars))\n",
        "\n",
        "        # 更新指标\n",
        "        # 这里的指标是由`compile()`配置的\n",
        "        self.compiled_metrics.update_state(y, y_pred, sample_weight=sample_weight)\n",
        "\n",
        "        # 返回一个将指标名称映射到当前值的字典\n",
        "        # 请注意，它将包括在self.metrics中跟踪的损失\n",
        "        return {m.name: m.result() for m in self.metrics}\n",
        "\n",
        "\n",
        "# 构造并编译CustomModel的实例\n",
        "inputs = keras.Input(shape=(32,))\n",
        "outputs = keras.layers.Dense(1)(inputs)\n",
        "model = CustomModel(inputs, outputs)\n",
        "model.compile(optimizer=\"adam\", loss=\"mse\", metrics=[\"mae\"])\n",
        "\n",
        "# 现在你可以使用sample_weight参数\n",
        "x = np.random.random((1000, 32))\n",
        "y = np.random.random((1000, 1))\n",
        "sw = np.random.random((1000, 1))\n",
        "model.fit(x, y, sample_weight=sw, epochs=3)"
      ],
      "execution_count": 5,
      "outputs": [
        {
          "output_type": "stream",
          "text": [
            "Epoch 1/3\n",
            "32/32 [==============================] - 0s 950us/step - loss: 0.3776 - mae: 0.7261\n",
            "Epoch 2/3\n",
            "32/32 [==============================] - 0s 906us/step - loss: 0.1744 - mae: 0.4780\n",
            "Epoch 3/3\n",
            "32/32 [==============================] - 0s 873us/step - loss: 0.1340 - mae: 0.4214\n"
          ],
          "name": "stdout"
        },
        {
          "output_type": "execute_result",
          "data": {
            "text/plain": [
              "<tensorflow.python.keras.callbacks.History at 0x7fb6ecac25f8>"
            ]
          },
          "metadata": {
            "tags": []
          },
          "execution_count": 5
        }
      ]
    },
    {
      "cell_type": "markdown",
      "metadata": {
        "id": "7SHKxcn5ARaV",
        "colab_type": "text"
      },
      "source": [
        "### **定义你自己的评估步骤**\n",
        "\n",
        "如果要进行与调用model.evaluate()相同的操作，该怎么做？其实很简单，你只要以完全相同的方式重写`test_step`就可以了，具体步骤如下："
      ]
    },
    {
      "cell_type": "code",
      "metadata": {
        "id": "49YBxGkOAVFH",
        "colab_type": "code",
        "colab": {
          "base_uri": "https://localhost:8080/",
          "height": 53
        },
        "outputId": "dc619315-3c75-4acb-a712-4057e6e92feb"
      },
      "source": [
        "class CustomModel(keras.Model):\n",
        "    def test_step(self, data):\n",
        "        # 分离数据\n",
        "        x, y = data\n",
        "        # 计算预测\n",
        "        y_pred = self(x, training=False)\n",
        "        # 更新跟踪损失的指标\n",
        "        self.compiled_loss(y, y_pred, regularization_losses=self.losses)\n",
        "        # 更新指标\n",
        "        self.compiled_metrics.update_state(y, y_pred)\n",
        "        # 返回一个将指标名称映射到当前值的字典\n",
        "        # 请注意，它将包括在self.metrics中跟踪的损失\n",
        "        return {m.name: m.result() for m in self.metrics}\n",
        "\n",
        "\n",
        "# 构造并编译CustomModel的实例\n",
        "inputs = keras.Input(shape=(32,))\n",
        "outputs = keras.layers.Dense(1)(inputs)\n",
        "model = CustomModel(inputs, outputs)\n",
        "model.compile(loss=\"mse\", metrics=[\"mae\"])\n",
        "\n",
        "# 通过自定义的test_step进行评估\n",
        "x = np.random.random((1000, 32))\n",
        "y = np.random.random((1000, 1))\n",
        "model.evaluate(x, y)"
      ],
      "execution_count": 6,
      "outputs": [
        {
          "output_type": "stream",
          "text": [
            "32/32 [==============================] - 0s 872us/step - loss: 0.2647 - mae: 0.4124\n"
          ],
          "name": "stdout"
        },
        {
          "output_type": "execute_result",
          "data": {
            "text/plain": [
              "[0.2646936774253845, 0.4124218821525574]"
            ]
          },
          "metadata": {
            "tags": []
          },
          "execution_count": 6
        }
      ]
    },
    {
      "cell_type": "markdown",
      "metadata": {
        "id": "oAE2LQdYAWLS",
        "colab_type": "text"
      },
      "source": [
        "### **总结：端到端GAN(生成式对抗网络)示例**\n",
        "\n",
        "让我们来看一个利用你刚刚学到的知识编写的端到端示例。\n",
        "\n",
        "让我们思考一下：\n",
        "\n",
        "+ 一个生成器网络用于生成`28x28x1`图像\n",
        "+ 一个判别器网络用于将`28x28x1`图像分为两类（“假”和“真”）\n",
        "+ 两个网络各一个优化器\n",
        "+ 一个损失函数，用于训练判别器。"
      ]
    },
    {
      "cell_type": "code",
      "metadata": {
        "id": "JRVYeUSHAZyT",
        "colab_type": "code",
        "colab": {}
      },
      "source": [
        "from tensorflow.keras import layers\n",
        "\n",
        "# 创建判别器\n",
        "discriminator = keras.Sequential(\n",
        "    [\n",
        "        keras.Input(shape=(28, 28, 1)),\n",
        "        layers.Conv2D(64, (3, 3), strides=(2, 2), padding=\"same\"),\n",
        "        layers.LeakyReLU(alpha=0.2),\n",
        "        layers.Conv2D(128, (3, 3), strides=(2, 2), padding=\"same\"),\n",
        "        layers.LeakyReLU(alpha=0.2),\n",
        "        layers.GlobalMaxPooling2D(),\n",
        "        layers.Dense(1),\n",
        "    ],\n",
        "    name=\"discriminator\",\n",
        ")\n",
        "\n",
        "# 创建生成器\n",
        "latent_dim = 128\n",
        "generator = keras.Sequential(\n",
        "    [\n",
        "        keras.Input(shape=(latent_dim,)),\n",
        "        # 我们想生成128个系数以reshape为7x7x128的图\n",
        "        layers.Dense(7 * 7 * 128),\n",
        "        layers.LeakyReLU(alpha=0.2),\n",
        "        layers.Reshape((7, 7, 128)),\n",
        "        layers.Conv2DTranspose(128, (4, 4), strides=(2, 2), padding=\"same\"),\n",
        "        layers.LeakyReLU(alpha=0.2),\n",
        "        layers.Conv2DTranspose(128, (4, 4), strides=(2, 2), padding=\"same\"),\n",
        "        layers.LeakyReLU(alpha=0.2),\n",
        "        layers.Conv2D(1, (7, 7), padding=\"same\", activation=\"sigmoid\"),\n",
        "    ],\n",
        "    name=\"generator\",\n",
        ")"
      ],
      "execution_count": 7,
      "outputs": []
    },
    {
      "cell_type": "markdown",
      "metadata": {
        "id": "AWZa2Ga0Aa3g",
        "colab_type": "text"
      },
      "source": [
        "下面演示的是一个完整的GAN（生成式对抗网络）类，可以重写`compile()`使用其自己的签名，并在`train_step`中的17行实现了整个GAN算法："
      ]
    },
    {
      "cell_type": "code",
      "metadata": {
        "id": "23Mkk0QpAcyY",
        "colab_type": "code",
        "colab": {}
      },
      "source": [
        "class GAN(keras.Model):\n",
        "    def __init__(self, discriminator, generator, latent_dim):\n",
        "        super(GAN, self).__init__()\n",
        "        self.discriminator = discriminator\n",
        "        self.generator = generator\n",
        "        self.latent_dim = latent_dim\n",
        "\n",
        "    def compile(self, d_optimizer, g_optimizer, loss_fn):\n",
        "        super(GAN, self).compile()\n",
        "        self.d_optimizer = d_optimizer\n",
        "        self.g_optimizer = g_optimizer\n",
        "        self.loss_fn = loss_fn\n",
        "\n",
        "    def train_step(self, real_images):\n",
        "        if isinstance(real_images, tuple):\n",
        "            real_images = real_images[0]\n",
        "        # 在潜在空间中采样随机点\n",
        "        batch_size = tf.shape(real_images)[0]\n",
        "        random_latent_vectors = tf.random.normal(shape=(batch_size, self.latent_dim))\n",
        "\n",
        "        # 将它们解码为假图像\n",
        "        generated_images = self.generator(random_latent_vectors)\n",
        "\n",
        "        # 将它们与真实图像结合\n",
        "        combined_images = tf.concat([generated_images, real_images], axis=0)\n",
        "\n",
        "        # 串联区分真假图像的标签\n",
        "        labels = tf.concat(\n",
        "            [tf.ones((batch_size, 1)), tf.zeros((batch_size, 1))], axis=0\n",
        "        )\n",
        "        # 在标签上添加随机噪音--非常重要的技巧！\n",
        "        labels += 0.05 * tf.random.uniform(tf.shape(labels))\n",
        "\n",
        "        # 训练判别器\n",
        "        with tf.GradientTape() as tape:\n",
        "            predictions = self.discriminator(combined_images)\n",
        "            d_loss = self.loss_fn(labels, predictions)\n",
        "        grads = tape.gradient(d_loss, self.discriminator.trainable_weights)\n",
        "        self.d_optimizer.apply_gradients(\n",
        "            zip(grads, self.discriminator.trainable_weights)\n",
        "        )\n",
        "\n",
        "        # 在潜在空间中采样随机点\n",
        "        random_latent_vectors = tf.random.normal(shape=(batch_size, self.latent_dim))\n",
        "\n",
        "        # 组装标有“所有真实图像”的标签\n",
        "        misleading_labels = tf.zeros((batch_size, 1))\n",
        "\n",
        "        # 训练生成器（请注意，我们*不*更新判别器的权重）！\n",
        "        with tf.GradientTape() as tape:\n",
        "            predictions = self.discriminator(self.generator(random_latent_vectors))\n",
        "            g_loss = self.loss_fn(misleading_labels, predictions)\n",
        "        grads = tape.gradient(g_loss, self.generator.trainable_weights)\n",
        "        self.g_optimizer.apply_gradients(zip(grads, self.generator.trainable_weights))\n",
        "        return {\"d_loss\": d_loss, \"g_loss\": g_loss}"
      ],
      "execution_count": 8,
      "outputs": []
    },
    {
      "cell_type": "markdown",
      "metadata": {
        "id": "58Nsc0dtDm5r",
        "colab_type": "text"
      },
      "source": [
        "让我们试驾一下："
      ]
    },
    {
      "cell_type": "code",
      "metadata": {
        "id": "dL6ApjYUDq27",
        "colab_type": "code",
        "colab": {
          "base_uri": "https://localhost:8080/",
          "height": 89
        },
        "outputId": "340d86b7-5dcd-441f-e3ec-a3dfcef1765d"
      },
      "source": [
        "# 准备数据集 我们将MNIST数字同时用于训练和测试\n",
        "batch_size = 64\n",
        "(x_train, _), (x_test, _) = keras.datasets.mnist.load_data()\n",
        "all_digits = np.concatenate([x_train, x_test])\n",
        "all_digits = all_digits.astype(\"float32\") / 255.0\n",
        "all_digits = np.reshape(all_digits, (-1, 28, 28, 1))\n",
        "dataset = tf.data.Dataset.from_tensor_slices(all_digits)\n",
        "dataset = dataset.shuffle(buffer_size=1024).batch(batch_size)\n",
        "\n",
        "gan = GAN(discriminator=discriminator, generator=generator, latent_dim=latent_dim)\n",
        "gan.compile(\n",
        "    d_optimizer=keras.optimizers.Adam(learning_rate=0.0003),\n",
        "    g_optimizer=keras.optimizers.Adam(learning_rate=0.0003),\n",
        "    loss_fn=keras.losses.BinaryCrossentropy(from_logits=True),\n",
        ")\n",
        "\n",
        "# 为了控制执行时间，我们只训练100个批量，你也可以训练整个数据\n",
        "# 集，这样的话将需要大约20个epoch才能获得不错的结果。\n",
        "gan.fit(dataset.take(100), epochs=1)"
      ],
      "execution_count": 9,
      "outputs": [
        {
          "output_type": "stream",
          "text": [
            "Downloading data from https://storage.googleapis.com/tensorflow/tf-keras-datasets/mnist.npz\n",
            "11493376/11490434 [==============================] - 0s 0us/step\n",
            "100/100 [==============================] - 259s 3s/step - d_loss: 0.4894 - g_loss: 0.9864\n"
          ],
          "name": "stdout"
        },
        {
          "output_type": "execute_result",
          "data": {
            "text/plain": [
              "<tensorflow.python.keras.callbacks.History at 0x7fb6eaf347f0>"
            ]
          },
          "metadata": {
            "tags": []
          },
          "execution_count": 9
        }
      ]
    },
    {
      "cell_type": "markdown",
      "metadata": {
        "id": "zng-NvbYDsc7",
        "colab_type": "text"
      },
      "source": [
        "深度学习背后的想法很简单，那么为什么实现它们会很困难？"
      ]
    }
  ]
}